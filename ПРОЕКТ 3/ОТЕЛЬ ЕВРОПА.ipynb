{
 "cells": [
  {
   "cell_type": "markdown",
   "metadata": {},
   "source": [
    "# ✍ В этом модуле вы будете работать с датасетом, в котором содержатся сведения о 515 000 отзывов на отели Европы. Модель, которую вы будете обучать, должна предсказывать рейтинг отеля по данным сайта Booking на основе имеющихся в датасете данных. Изученные нами навыки разведывательного анализа помогут улучшить модель. Как? Узнаем дальше."
   ]
  },
  {
   "cell_type": "code",
   "execution_count": 1,
   "metadata": {},
   "outputs": [
    {
     "name": "stderr",
     "output_type": "stream",
     "text": [
      "[nltk_data] Downloading package vader_lexicon to\n",
      "[nltk_data]     C:\\Users\\Дмитрий\\AppData\\Roaming\\nltk_data...\n",
      "[nltk_data]   Package vader_lexicon is already up-to-date!\n"
     ]
    }
   ],
   "source": [
    "import numpy as np # linear algebra\n",
    "import pandas as pd # data processing, CSV file I/O (e.g. pd.read_csv)\n",
    "import category_encoders as ce # импорт для работы с кодировщиком\n",
    "from sklearn import preprocessing\n",
    "from sklearn.preprocessing import LabelEncoder\n",
    "from collections import Counter\n",
    "import nltk\n",
    "from nltk.sentiment.vader import SentimentIntensityAnalyzer\n",
    "nltk.downloader.download('vader_lexicon')\n",
    "\n",
    "# импортируем библиотеки для визуализации\n",
    "import matplotlib.pyplot as plt\n",
    "import seaborn as sns \n",
    "%matplotlib inline\n",
    "import plotly.express as px\n",
    "\n",
    "# Загружаем специальный удобный инструмент для разделения датасета:\n",
    "from sklearn.model_selection import train_test_split"
   ]
  },
  {
   "cell_type": "code",
   "execution_count": 2,
   "metadata": {},
   "outputs": [],
   "source": [
    "RANDOM_SEED = 42"
   ]
  },
  {
   "cell_type": "code",
   "execution_count": 3,
   "metadata": {},
   "outputs": [],
   "source": [
    "\n",
    "from sklearn.model_selection import train_test_split\n",
    "\n",
    "# Input data files are available in the read-only \"../input/\" directory\n",
    "# For example, running this (by clicking run or pressing Shift+Enter) will list all files under the input directory\n",
    "\n",
    "import os\n",
    "for dirname, _, filenames in os.walk('/kaggle/input'):\n",
    "    for filename in filenames:\n",
    "        print(os.path.join(dirname, filename))"
   ]
  },
  {
   "cell_type": "code",
   "execution_count": 4,
   "metadata": {},
   "outputs": [],
   "source": [
    "df_train = pd.read_csv('hotels_train.csv') # датасет для обучения\n",
    "df_test = pd.read_csv('hotels_test.csv') # датасет для предсказания\n",
    "sample_submission = pd.read_csv('submission.csv') # самбмишн"
   ]
  },
  {
   "cell_type": "markdown",
   "metadata": {},
   "source": [
    "# Первоначальная версия датасета содержит 17 полей со следующей информацией:\n",
    "\n",
    "## hotel_address — адрес отеля;\n",
    "## review_date — дата, когда рецензент разместил соответствующий отзыв;\n",
    "## average_score — средний балл отеля, рассчитанный на основе последнего комментария за последний год;\n",
    "## hotel_name — название отеля;\n",
    "## reviewer_nationality — страна рецензента;\n",
    "## negative_review— отрицательный отзыв, который рецензент дал отелю;\n",
    "## review_total_negative_word_counts — общее количество слов в отрицательном отзыве;\n",
    "## positive_review — положительный отзыв, который рецензент дал отелю;\n",
    "## review_total_positive_word_counts — общее количество слов в положительном отзыве.\n",
    "## reviewer_score — оценка, которую рецензент поставил отелю на основе своего опыта;\n",
    "## total_number_of_reviews_reviewer_has_given — количество отзывов, которые рецензенты дали в прошлом;\n",
    "## total_number_of_reviews — общее количество действительных отзывов об отеле;\n",
    "## tags — теги, которые рецензент дал отелю;\n",
    "## days_since_review — количество дней между датой проверки и датой очистки;\n",
    "## additional_number_of_scoring — есть также некоторые гости, которые просто поставили оценку сервису, но не оставили отзыв. Это число указывает, сколько там действительных оценок без проверки.\n",
    "## lat — географическая широта отеля;\n",
    "## lng — географическая долгота отеля."
   ]
  },
  {
   "cell_type": "code",
   "execution_count": 5,
   "metadata": {},
   "outputs": [
    {
     "name": "stdout",
     "output_type": "stream",
     "text": [
      "<class 'pandas.core.frame.DataFrame'>\n",
      "RangeIndex: 386803 entries, 0 to 386802\n",
      "Data columns (total 17 columns):\n",
      " #   Column                                      Non-Null Count   Dtype  \n",
      "---  ------                                      --------------   -----  \n",
      " 0   hotel_address                               386803 non-null  object \n",
      " 1   additional_number_of_scoring                386803 non-null  int64  \n",
      " 2   review_date                                 386803 non-null  object \n",
      " 3   average_score                               386803 non-null  float64\n",
      " 4   hotel_name                                  386803 non-null  object \n",
      " 5   reviewer_nationality                        386803 non-null  object \n",
      " 6   negative_review                             386803 non-null  object \n",
      " 7   review_total_negative_word_counts           386803 non-null  int64  \n",
      " 8   total_number_of_reviews                     386803 non-null  int64  \n",
      " 9   positive_review                             386803 non-null  object \n",
      " 10  review_total_positive_word_counts           386803 non-null  int64  \n",
      " 11  total_number_of_reviews_reviewer_has_given  386803 non-null  int64  \n",
      " 12  reviewer_score                              386803 non-null  float64\n",
      " 13  tags                                        386803 non-null  object \n",
      " 14  days_since_review                           386803 non-null  object \n",
      " 15  lat                                         384355 non-null  float64\n",
      " 16  lng                                         384355 non-null  float64\n",
      "dtypes: float64(4), int64(5), object(8)\n",
      "memory usage: 50.2+ MB\n"
     ]
    }
   ],
   "source": [
    "df_train.info()"
   ]
  },
  {
   "cell_type": "code",
   "execution_count": 6,
   "metadata": {},
   "outputs": [
    {
     "data": {
      "text/html": [
       "<div><div id=061caf60-24bf-4f77-8b9d-80e50fae7ffa style=\"display:none; background-color:#9D6CFF; color:white; width:200px; height:30px; padding-left:5px; border-radius:4px; flex-direction:row; justify-content:space-around; align-items:center;\" onmouseover=\"this.style.backgroundColor='#BA9BF8'\" onmouseout=\"this.style.backgroundColor='#9D6CFF'\" onclick=\"window.commands?.execute('create-mitosheet-from-dataframe-output');\">See Full Dataframe in Mito</div> <script> if (window.commands?.hasCommand('create-mitosheet-from-dataframe-output')) document.getElementById('061caf60-24bf-4f77-8b9d-80e50fae7ffa').style.display = 'flex' </script> <table border=\"1\" class=\"dataframe\">\n",
       "  <thead>\n",
       "    <tr style=\"text-align: right;\">\n",
       "      <th></th>\n",
       "      <th>hotel_address</th>\n",
       "      <th>additional_number_of_scoring</th>\n",
       "      <th>review_date</th>\n",
       "      <th>average_score</th>\n",
       "      <th>hotel_name</th>\n",
       "      <th>reviewer_nationality</th>\n",
       "      <th>negative_review</th>\n",
       "      <th>review_total_negative_word_counts</th>\n",
       "      <th>total_number_of_reviews</th>\n",
       "      <th>positive_review</th>\n",
       "      <th>review_total_positive_word_counts</th>\n",
       "      <th>total_number_of_reviews_reviewer_has_given</th>\n",
       "      <th>reviewer_score</th>\n",
       "      <th>tags</th>\n",
       "      <th>days_since_review</th>\n",
       "      <th>lat</th>\n",
       "      <th>lng</th>\n",
       "    </tr>\n",
       "  </thead>\n",
       "  <tbody>\n",
       "    <tr>\n",
       "      <th>0</th>\n",
       "      <td>Stratton Street Mayfair Westminster Borough London W1J 8LT United Kingdom</td>\n",
       "      <td>581</td>\n",
       "      <td>2/19/2016</td>\n",
       "      <td>8.4</td>\n",
       "      <td>The May Fair Hotel</td>\n",
       "      <td>United Kingdom</td>\n",
       "      <td>Leaving</td>\n",
       "      <td>3</td>\n",
       "      <td>1994</td>\n",
       "      <td>Staff were amazing</td>\n",
       "      <td>4</td>\n",
       "      <td>7</td>\n",
       "      <td>10.0</td>\n",
       "      <td>[' Leisure trip ', ' Couple ', ' Studio Suite ', ' Stayed 2 nights ', ' Submitted from a mobile device ']</td>\n",
       "      <td>531 day</td>\n",
       "      <td>51.507894</td>\n",
       "      <td>-0.143671</td>\n",
       "    </tr>\n",
       "    <tr>\n",
       "      <th>1</th>\n",
       "      <td>130 134 Southampton Row Camden London WC1B 5AF United Kingdom</td>\n",
       "      <td>299</td>\n",
       "      <td>1/12/2017</td>\n",
       "      <td>8.3</td>\n",
       "      <td>Mercure London Bloomsbury Hotel</td>\n",
       "      <td>United Kingdom</td>\n",
       "      <td>poor breakfast</td>\n",
       "      <td>3</td>\n",
       "      <td>1361</td>\n",
       "      <td>location</td>\n",
       "      <td>2</td>\n",
       "      <td>14</td>\n",
       "      <td>6.3</td>\n",
       "      <td>[' Business trip ', ' Couple ', ' Standard Double Room ', ' Stayed 1 night ']</td>\n",
       "      <td>203 day</td>\n",
       "      <td>51.521009</td>\n",
       "      <td>-0.123097</td>\n",
       "    </tr>\n",
       "  </tbody>\n",
       "</table></div>"
      ],
      "text/plain": [
       "                                       hotel_address  \\\n",
       "0  Stratton Street Mayfair Westminster Borough Lo...   \n",
       "1  130 134 Southampton Row Camden London WC1B 5AF...   \n",
       "\n",
       "   additional_number_of_scoring review_date  average_score  \\\n",
       "0                           581   2/19/2016            8.4   \n",
       "1                           299   1/12/2017            8.3   \n",
       "\n",
       "                        hotel_name reviewer_nationality  negative_review  \\\n",
       "0               The May Fair Hotel      United Kingdom          Leaving    \n",
       "1  Mercure London Bloomsbury Hotel      United Kingdom    poor breakfast   \n",
       "\n",
       "   review_total_negative_word_counts  total_number_of_reviews  \\\n",
       "0                                  3                     1994   \n",
       "1                                  3                     1361   \n",
       "\n",
       "       positive_review  review_total_positive_word_counts  \\\n",
       "0   Staff were amazing                                  4   \n",
       "1             location                                  2   \n",
       "\n",
       "   total_number_of_reviews_reviewer_has_given  reviewer_score  \\\n",
       "0                                           7            10.0   \n",
       "1                                          14             6.3   \n",
       "\n",
       "                                                tags days_since_review  \\\n",
       "0  [' Leisure trip ', ' Couple ', ' Studio Suite ...           531 day   \n",
       "1  [' Business trip ', ' Couple ', ' Standard Dou...           203 day   \n",
       "\n",
       "         lat       lng  \n",
       "0  51.507894 -0.143671  \n",
       "1  51.521009 -0.123097  "
      ]
     },
     "execution_count": 6,
     "metadata": {},
     "output_type": "execute_result"
    }
   ],
   "source": [
    "df_train.head(2)"
   ]
  },
  {
   "cell_type": "code",
   "execution_count": 7,
   "metadata": {},
   "outputs": [
    {
     "name": "stdout",
     "output_type": "stream",
     "text": [
      "<class 'pandas.core.frame.DataFrame'>\n",
      "RangeIndex: 128935 entries, 0 to 128934\n",
      "Data columns (total 16 columns):\n",
      " #   Column                                      Non-Null Count   Dtype  \n",
      "---  ------                                      --------------   -----  \n",
      " 0   hotel_address                               128935 non-null  object \n",
      " 1   additional_number_of_scoring                128935 non-null  int64  \n",
      " 2   review_date                                 128935 non-null  object \n",
      " 3   average_score                               128935 non-null  float64\n",
      " 4   hotel_name                                  128935 non-null  object \n",
      " 5   reviewer_nationality                        128935 non-null  object \n",
      " 6   negative_review                             128935 non-null  object \n",
      " 7   review_total_negative_word_counts           128935 non-null  int64  \n",
      " 8   total_number_of_reviews                     128935 non-null  int64  \n",
      " 9   positive_review                             128935 non-null  object \n",
      " 10  review_total_positive_word_counts           128935 non-null  int64  \n",
      " 11  total_number_of_reviews_reviewer_has_given  128935 non-null  int64  \n",
      " 12  tags                                        128935 non-null  object \n",
      " 13  days_since_review                           128935 non-null  object \n",
      " 14  lat                                         128115 non-null  float64\n",
      " 15  lng                                         128115 non-null  float64\n",
      "dtypes: float64(3), int64(5), object(8)\n",
      "memory usage: 15.7+ MB\n"
     ]
    }
   ],
   "source": [
    "df_test.info()"
   ]
  },
  {
   "cell_type": "code",
   "execution_count": 8,
   "metadata": {},
   "outputs": [
    {
     "data": {
      "text/html": [
       "<div><div id=c196a37c-75cf-43ce-828c-66a69f3a0700 style=\"display:none; background-color:#9D6CFF; color:white; width:200px; height:30px; padding-left:5px; border-radius:4px; flex-direction:row; justify-content:space-around; align-items:center;\" onmouseover=\"this.style.backgroundColor='#BA9BF8'\" onmouseout=\"this.style.backgroundColor='#9D6CFF'\" onclick=\"window.commands?.execute('create-mitosheet-from-dataframe-output');\">See Full Dataframe in Mito</div> <script> if (window.commands?.hasCommand('create-mitosheet-from-dataframe-output')) document.getElementById('c196a37c-75cf-43ce-828c-66a69f3a0700').style.display = 'flex' </script> <table border=\"1\" class=\"dataframe\">\n",
       "  <thead>\n",
       "    <tr style=\"text-align: right;\">\n",
       "      <th></th>\n",
       "      <th>hotel_address</th>\n",
       "      <th>additional_number_of_scoring</th>\n",
       "      <th>review_date</th>\n",
       "      <th>average_score</th>\n",
       "      <th>hotel_name</th>\n",
       "      <th>reviewer_nationality</th>\n",
       "      <th>negative_review</th>\n",
       "      <th>review_total_negative_word_counts</th>\n",
       "      <th>total_number_of_reviews</th>\n",
       "      <th>positive_review</th>\n",
       "      <th>review_total_positive_word_counts</th>\n",
       "      <th>total_number_of_reviews_reviewer_has_given</th>\n",
       "      <th>tags</th>\n",
       "      <th>days_since_review</th>\n",
       "      <th>lat</th>\n",
       "      <th>lng</th>\n",
       "    </tr>\n",
       "  </thead>\n",
       "  <tbody>\n",
       "    <tr>\n",
       "      <th>0</th>\n",
       "      <td>Via Senigallia 6 20161 Milan Italy</td>\n",
       "      <td>904</td>\n",
       "      <td>7/21/2017</td>\n",
       "      <td>8.1</td>\n",
       "      <td>Hotel Da Vinci</td>\n",
       "      <td>United Kingdom</td>\n",
       "      <td>Would have appreciated a shop in the hotel that sold drinking water etc but not necessity Would recommend if like us you arrive late at night to bring drinks from plane airport as there s no shop nearby There is a minibar though if you want to pay those prices</td>\n",
       "      <td>52</td>\n",
       "      <td>16670</td>\n",
       "      <td>Hotel was great clean friendly staff free breakfast every morning with good selection good wifi connection nice sized room with bath fridge in room Personally loved the fact that the hotel isn t in the city centre but is literally next to a train station that you can easily get to and from the airport city Would definitely stay again</td>\n",
       "      <td>62</td>\n",
       "      <td>1</td>\n",
       "      <td>[' Leisure trip ', ' Couple ', ' Double Room ', ' Stayed 2 nights ']</td>\n",
       "      <td>13 days</td>\n",
       "      <td>45.533137</td>\n",
       "      <td>9.171102</td>\n",
       "    </tr>\n",
       "    <tr>\n",
       "      <th>1</th>\n",
       "      <td>Arlandaweg 10 Westpoort 1043 EW Amsterdam Netherlands</td>\n",
       "      <td>612</td>\n",
       "      <td>12/12/2016</td>\n",
       "      <td>8.6</td>\n",
       "      <td>Urban Lodge Hotel</td>\n",
       "      <td>Belgium</td>\n",
       "      <td>No tissue paper box was present at the room</td>\n",
       "      <td>10</td>\n",
       "      <td>5018</td>\n",
       "      <td>No Positive</td>\n",
       "      <td>0</td>\n",
       "      <td>7</td>\n",
       "      <td>[' Leisure trip ', ' Group ', ' Triple Room ', ' Stayed 1 night ']</td>\n",
       "      <td>234 day</td>\n",
       "      <td>52.385649</td>\n",
       "      <td>4.834443</td>\n",
       "    </tr>\n",
       "  </tbody>\n",
       "</table></div>"
      ],
      "text/plain": [
       "                                       hotel_address  \\\n",
       "0                 Via Senigallia 6 20161 Milan Italy   \n",
       "1  Arlandaweg 10 Westpoort 1043 EW Amsterdam Neth...   \n",
       "\n",
       "   additional_number_of_scoring review_date  average_score         hotel_name  \\\n",
       "0                           904   7/21/2017            8.1     Hotel Da Vinci   \n",
       "1                           612  12/12/2016            8.6  Urban Lodge Hotel   \n",
       "\n",
       "  reviewer_nationality                                    negative_review  \\\n",
       "0      United Kingdom    Would have appreciated a shop in the hotel th...   \n",
       "1             Belgium         No tissue paper box was present at the room   \n",
       "\n",
       "   review_total_negative_word_counts  total_number_of_reviews  \\\n",
       "0                                 52                    16670   \n",
       "1                                 10                     5018   \n",
       "\n",
       "                                     positive_review  \\\n",
       "0   Hotel was great clean friendly staff free bre...   \n",
       "1                                        No Positive   \n",
       "\n",
       "   review_total_positive_word_counts  \\\n",
       "0                                 62   \n",
       "1                                  0   \n",
       "\n",
       "   total_number_of_reviews_reviewer_has_given  \\\n",
       "0                                           1   \n",
       "1                                           7   \n",
       "\n",
       "                                                tags days_since_review  \\\n",
       "0  [' Leisure trip ', ' Couple ', ' Double Room '...           13 days   \n",
       "1  [' Leisure trip ', ' Group ', ' Triple Room ',...           234 day   \n",
       "\n",
       "         lat       lng  \n",
       "0  45.533137  9.171102  \n",
       "1  52.385649  4.834443  "
      ]
     },
     "execution_count": 8,
     "metadata": {},
     "output_type": "execute_result"
    }
   ],
   "source": [
    "df_test.head(2)"
   ]
  },
  {
   "cell_type": "code",
   "execution_count": 9,
   "metadata": {},
   "outputs": [
    {
     "data": {
      "text/html": [
       "<div><div id=de07ff87-1387-4e8a-97e2-ca4cacaab2e4 style=\"display:none; background-color:#9D6CFF; color:white; width:200px; height:30px; padding-left:5px; border-radius:4px; flex-direction:row; justify-content:space-around; align-items:center;\" onmouseover=\"this.style.backgroundColor='#BA9BF8'\" onmouseout=\"this.style.backgroundColor='#9D6CFF'\" onclick=\"window.commands?.execute('create-mitosheet-from-dataframe-output');\">See Full Dataframe in Mito</div> <script> if (window.commands?.hasCommand('create-mitosheet-from-dataframe-output')) document.getElementById('de07ff87-1387-4e8a-97e2-ca4cacaab2e4').style.display = 'flex' </script> <table border=\"1\" class=\"dataframe\">\n",
       "  <thead>\n",
       "    <tr style=\"text-align: right;\">\n",
       "      <th></th>\n",
       "      <th>reviewer_score</th>\n",
       "      <th>id</th>\n",
       "    </tr>\n",
       "  </thead>\n",
       "  <tbody>\n",
       "    <tr>\n",
       "      <th>0</th>\n",
       "      <td>8.642</td>\n",
       "      <td>488440</td>\n",
       "    </tr>\n",
       "    <tr>\n",
       "      <th>1</th>\n",
       "      <td>7.646</td>\n",
       "      <td>274649</td>\n",
       "    </tr>\n",
       "  </tbody>\n",
       "</table></div>"
      ],
      "text/plain": [
       "   reviewer_score      id\n",
       "0           8.642  488440\n",
       "1           7.646  274649"
      ]
     },
     "execution_count": 9,
     "metadata": {},
     "output_type": "execute_result"
    }
   ],
   "source": [
    "sample_submission.head(2)"
   ]
  },
  {
   "cell_type": "code",
   "execution_count": 10,
   "metadata": {},
   "outputs": [
    {
     "name": "stdout",
     "output_type": "stream",
     "text": [
      "<class 'pandas.core.frame.DataFrame'>\n",
      "RangeIndex: 128935 entries, 0 to 128934\n",
      "Data columns (total 2 columns):\n",
      " #   Column          Non-Null Count   Dtype  \n",
      "---  ------          --------------   -----  \n",
      " 0   reviewer_score  128935 non-null  float64\n",
      " 1   id              128935 non-null  int64  \n",
      "dtypes: float64(1), int64(1)\n",
      "memory usage: 2.0 MB\n"
     ]
    }
   ],
   "source": [
    "sample_submission.info()"
   ]
  },
  {
   "cell_type": "code",
   "execution_count": 11,
   "metadata": {},
   "outputs": [
    {
     "name": "stderr",
     "output_type": "stream",
     "text": [
      "C:\\Users\\Дмитрий\\AppData\\Local\\Temp\\ipykernel_7788\\447817491.py:6: FutureWarning: The frame.append method is deprecated and will be removed from pandas in a future version. Use pandas.concat instead.\n",
      "  data = df_test.append(df_train, sort=False).reset_index(drop=True) # объединяем\n"
     ]
    }
   ],
   "source": [
    "# ВАЖНО! дря корректной обработки признаков объединяем трейн и тест в один датасет\n",
    "df_train['sample'] = 1 # помечаем где у нас трейн\n",
    "df_test['sample'] = 0 # помечаем где у нас тест\n",
    "df_test['reviewer_score'] = 0 # в тесте у нас нет значения reviewer_score, мы его должны предсказать, по этому пока просто заполняем нулями\n",
    "\n",
    "data = df_test.append(df_train, sort=False).reset_index(drop=True) # объединяем"
   ]
  },
  {
   "cell_type": "code",
   "execution_count": 12,
   "metadata": {},
   "outputs": [
    {
     "name": "stdout",
     "output_type": "stream",
     "text": [
      "<class 'pandas.core.frame.DataFrame'>\n",
      "RangeIndex: 515738 entries, 0 to 515737\n",
      "Data columns (total 18 columns):\n",
      " #   Column                                      Non-Null Count   Dtype  \n",
      "---  ------                                      --------------   -----  \n",
      " 0   hotel_address                               515738 non-null  object \n",
      " 1   additional_number_of_scoring                515738 non-null  int64  \n",
      " 2   review_date                                 515738 non-null  object \n",
      " 3   average_score                               515738 non-null  float64\n",
      " 4   hotel_name                                  515738 non-null  object \n",
      " 5   reviewer_nationality                        515738 non-null  object \n",
      " 6   negative_review                             515738 non-null  object \n",
      " 7   review_total_negative_word_counts           515738 non-null  int64  \n",
      " 8   total_number_of_reviews                     515738 non-null  int64  \n",
      " 9   positive_review                             515738 non-null  object \n",
      " 10  review_total_positive_word_counts           515738 non-null  int64  \n",
      " 11  total_number_of_reviews_reviewer_has_given  515738 non-null  int64  \n",
      " 12  tags                                        515738 non-null  object \n",
      " 13  days_since_review                           515738 non-null  object \n",
      " 14  lat                                         512470 non-null  float64\n",
      " 15  lng                                         512470 non-null  float64\n",
      " 16  sample                                      515738 non-null  int64  \n",
      " 17  reviewer_score                              515738 non-null  float64\n",
      "dtypes: float64(4), int64(6), object(8)\n",
      "memory usage: 70.8+ MB\n"
     ]
    }
   ],
   "source": [
    "data.info()"
   ]
  },
  {
   "cell_type": "markdown",
   "metadata": {},
   "source": [
    "## Очистка данныхх"
   ]
  },
  {
   "cell_type": "code",
   "execution_count": 13,
   "metadata": {},
   "outputs": [
    {
     "name": "stdout",
     "output_type": "stream",
     "text": [
      "Признаки и количество пропущенных значений:\n",
      "lat    3268\n",
      "lng    3268\n",
      "dtype: int64\n"
     ]
    }
   ],
   "source": [
    "hotels_nulls = data.isnull().sum()\n",
    "nulls = hotels_nulls[hotels_nulls > 0]\n",
    "print('Признаки и количество пропущенных значений:\\n{}'.format(nulls))"
   ]
  },
  {
   "cell_type": "markdown",
   "metadata": {},
   "source": [
    "\n",
    "## Видим, что пропущены данные в столбцаx lat и lng. Это категориальные признаки. Не имеет смысла заполнять их модальными значениями, так как они обозначают географическое положение. Заполним пропущенные значения нулями."
   ]
  },
  {
   "cell_type": "code",
   "execution_count": 14,
   "metadata": {},
   "outputs": [],
   "source": [
    "data['lat'] = data['lat'].fillna(0, inplace=True)\n",
    "data['lng'] = data['lng'].fillna(0, inplace=True)"
   ]
  },
  {
   "cell_type": "code",
   "execution_count": 15,
   "metadata": {},
   "outputs": [
    {
     "name": "stdout",
     "output_type": "stream",
     "text": [
      "Число найденных дубликатов: 336\n"
     ]
    },
    {
     "data": {
      "text/html": [
       "<div><div id=2855399c-84ee-4cb2-903f-76f3c3e67d5c style=\"display:none; background-color:#9D6CFF; color:white; width:200px; height:30px; padding-left:5px; border-radius:4px; flex-direction:row; justify-content:space-around; align-items:center;\" onmouseover=\"this.style.backgroundColor='#BA9BF8'\" onmouseout=\"this.style.backgroundColor='#9D6CFF'\" onclick=\"window.commands?.execute('create-mitosheet-from-dataframe-output');\">See Full Dataframe in Mito</div> <script> if (window.commands?.hasCommand('create-mitosheet-from-dataframe-output')) document.getElementById('2855399c-84ee-4cb2-903f-76f3c3e67d5c').style.display = 'flex' </script> <table border=\"1\" class=\"dataframe\">\n",
       "  <thead>\n",
       "    <tr style=\"text-align: right;\">\n",
       "      <th></th>\n",
       "      <th>hotel_address</th>\n",
       "      <th>additional_number_of_scoring</th>\n",
       "      <th>review_date</th>\n",
       "      <th>average_score</th>\n",
       "      <th>hotel_name</th>\n",
       "      <th>reviewer_nationality</th>\n",
       "      <th>negative_review</th>\n",
       "      <th>review_total_negative_word_counts</th>\n",
       "      <th>total_number_of_reviews</th>\n",
       "      <th>positive_review</th>\n",
       "      <th>review_total_positive_word_counts</th>\n",
       "      <th>total_number_of_reviews_reviewer_has_given</th>\n",
       "      <th>tags</th>\n",
       "      <th>days_since_review</th>\n",
       "      <th>lat</th>\n",
       "      <th>lng</th>\n",
       "      <th>sample</th>\n",
       "      <th>reviewer_score</th>\n",
       "    </tr>\n",
       "  </thead>\n",
       "  <tbody>\n",
       "    <tr>\n",
       "      <th>0</th>\n",
       "      <td>Via Senigallia 6 20161 Milan Italy</td>\n",
       "      <td>904</td>\n",
       "      <td>7/21/2017</td>\n",
       "      <td>8.1</td>\n",
       "      <td>Hotel Da Vinci</td>\n",
       "      <td>United Kingdom</td>\n",
       "      <td>Would have appreciated a shop in the hotel that sold drinking water etc but not necessity Would recommend if like us you arrive late at night to bring drinks from plane airport as there s no shop nearby There is a minibar though if you want to pay those prices</td>\n",
       "      <td>52</td>\n",
       "      <td>16670</td>\n",
       "      <td>Hotel was great clean friendly staff free breakfast every morning with good selection good wifi connection nice sized room with bath fridge in room Personally loved the fact that the hotel isn t in the city centre but is literally next to a train station that you can easily get to and from the airport city Would definitely stay again</td>\n",
       "      <td>62</td>\n",
       "      <td>1</td>\n",
       "      <td>[' Leisure trip ', ' Couple ', ' Double Room ', ' Stayed 2 nights ']</td>\n",
       "      <td>13 days</td>\n",
       "      <td>None</td>\n",
       "      <td>None</td>\n",
       "      <td>0</td>\n",
       "      <td>0.0</td>\n",
       "    </tr>\n",
       "    <tr>\n",
       "      <th>1</th>\n",
       "      <td>Arlandaweg 10 Westpoort 1043 EW Amsterdam Netherlands</td>\n",
       "      <td>612</td>\n",
       "      <td>12/12/2016</td>\n",
       "      <td>8.6</td>\n",
       "      <td>Urban Lodge Hotel</td>\n",
       "      <td>Belgium</td>\n",
       "      <td>No tissue paper box was present at the room</td>\n",
       "      <td>10</td>\n",
       "      <td>5018</td>\n",
       "      <td>No Positive</td>\n",
       "      <td>0</td>\n",
       "      <td>7</td>\n",
       "      <td>[' Leisure trip ', ' Group ', ' Triple Room ', ' Stayed 1 night ']</td>\n",
       "      <td>234 day</td>\n",
       "      <td>None</td>\n",
       "      <td>None</td>\n",
       "      <td>0</td>\n",
       "      <td>0.0</td>\n",
       "    </tr>\n",
       "    <tr>\n",
       "      <th>2</th>\n",
       "      <td>Mallorca 251 Eixample 08008 Barcelona Spain</td>\n",
       "      <td>46</td>\n",
       "      <td>11/26/2015</td>\n",
       "      <td>8.3</td>\n",
       "      <td>Alexandra Barcelona A DoubleTree by Hilton</td>\n",
       "      <td>Sweden</td>\n",
       "      <td>Pillows</td>\n",
       "      <td>3</td>\n",
       "      <td>351</td>\n",
       "      <td>Nice welcoming and service</td>\n",
       "      <td>5</td>\n",
       "      <td>15</td>\n",
       "      <td>[' Business trip ', ' Solo traveler ', ' Twin Room ', ' Stayed 1 night ', ' Submitted from a mobile device ']</td>\n",
       "      <td>616 day</td>\n",
       "      <td>None</td>\n",
       "      <td>None</td>\n",
       "      <td>0</td>\n",
       "      <td>0.0</td>\n",
       "    </tr>\n",
       "    <tr>\n",
       "      <th>3</th>\n",
       "      <td>Piazza Della Repubblica 17 Central Station 20124 Milan Italy</td>\n",
       "      <td>241</td>\n",
       "      <td>10/17/2015</td>\n",
       "      <td>9.1</td>\n",
       "      <td>Hotel Principe Di Savoia</td>\n",
       "      <td>United States of America</td>\n",
       "      <td>No Negative</td>\n",
       "      <td>0</td>\n",
       "      <td>1543</td>\n",
       "      <td>Everything including the nice upgrade The Hotel has been revamped and what a surprise Love every second of it including in room dining which was excellent</td>\n",
       "      <td>27</td>\n",
       "      <td>9</td>\n",
       "      <td>[' Leisure trip ', ' Couple ', ' Ambassador Junior Suite ', ' Stayed 1 night ']</td>\n",
       "      <td>656 day</td>\n",
       "      <td>None</td>\n",
       "      <td>None</td>\n",
       "      <td>0</td>\n",
       "      <td>0.0</td>\n",
       "    </tr>\n",
       "    <tr>\n",
       "      <th>4</th>\n",
       "      <td>Singel 303 309 Amsterdam City Center 1012 WJ Amsterdam Netherlands</td>\n",
       "      <td>834</td>\n",
       "      <td>5/16/2016</td>\n",
       "      <td>9.1</td>\n",
       "      <td>Hotel Esther a</td>\n",
       "      <td>United Kingdom</td>\n",
       "      <td>No Negative</td>\n",
       "      <td>0</td>\n",
       "      <td>4687</td>\n",
       "      <td>Lovely hotel v welcoming staff</td>\n",
       "      <td>7</td>\n",
       "      <td>2</td>\n",
       "      <td>[' Business trip ', ' Solo traveler ', ' Classic Double or Twin Room ', ' Stayed 2 nights ', ' Submitted from a mobile device ']</td>\n",
       "      <td>444 day</td>\n",
       "      <td>None</td>\n",
       "      <td>None</td>\n",
       "      <td>0</td>\n",
       "      <td>0.0</td>\n",
       "    </tr>\n",
       "    <tr>\n",
       "      <th>...</th>\n",
       "      <td>...</td>\n",
       "      <td>...</td>\n",
       "      <td>...</td>\n",
       "      <td>...</td>\n",
       "      <td>...</td>\n",
       "      <td>...</td>\n",
       "      <td>...</td>\n",
       "      <td>...</td>\n",
       "      <td>...</td>\n",
       "      <td>...</td>\n",
       "      <td>...</td>\n",
       "      <td>...</td>\n",
       "      <td>...</td>\n",
       "      <td>...</td>\n",
       "      <td>...</td>\n",
       "      <td>...</td>\n",
       "      <td>...</td>\n",
       "      <td>...</td>\n",
       "    </tr>\n",
       "    <tr>\n",
       "      <th>515733</th>\n",
       "      <td>9 Knaresborough Place Kensington and Chelsea London SW5 0TP United Kingdom</td>\n",
       "      <td>107</td>\n",
       "      <td>4/19/2017</td>\n",
       "      <td>9.0</td>\n",
       "      <td>Hotel Moonlight</td>\n",
       "      <td>France</td>\n",
       "      <td>No Negative</td>\n",
       "      <td>0</td>\n",
       "      <td>617</td>\n",
       "      <td>Tr s proche du metro Earl s court</td>\n",
       "      <td>10</td>\n",
       "      <td>10</td>\n",
       "      <td>[' Leisure trip ', ' Group ', ' Club Double or Twin Room ', ' Stayed 2 nights ', ' Submitted from a mobile device ']</td>\n",
       "      <td>106 day</td>\n",
       "      <td>None</td>\n",
       "      <td>None</td>\n",
       "      <td>1</td>\n",
       "      <td>8.8</td>\n",
       "    </tr>\n",
       "    <tr>\n",
       "      <th>515734</th>\n",
       "      <td>Landstra er Hauptstra e 155 03 Landstra e 1030 Vienna Austria</td>\n",
       "      <td>272</td>\n",
       "      <td>2/13/2017</td>\n",
       "      <td>8.4</td>\n",
       "      <td>BEST WESTERN PLUS Amedia Wien</td>\n",
       "      <td>Turkey</td>\n",
       "      <td>No Negative</td>\n",
       "      <td>0</td>\n",
       "      <td>3224</td>\n",
       "      <td>The bed was so comfy I stayed with my boyfriend we had a double bed Also transportation is excellent the hotel is very very close to Old City Once you exit the hotel just turn right about 50m away there is a bus stop get off on Stubentor it is the last stop It only takes 10min Also you can take the same bus back to the hotel The bus name is 74A St Marx The hotel was very clean and the room that we accomidated in was nice and roomy</td>\n",
       "      <td>93</td>\n",
       "      <td>1</td>\n",
       "      <td>[' Leisure trip ', ' Couple ', ' Standard Double Room ', ' Stayed 4 nights ', ' Submitted from a mobile device ']</td>\n",
       "      <td>171 day</td>\n",
       "      <td>None</td>\n",
       "      <td>None</td>\n",
       "      <td>1</td>\n",
       "      <td>9.2</td>\n",
       "    </tr>\n",
       "    <tr>\n",
       "      <th>515735</th>\n",
       "      <td>29 31 Gower Street Camden London WC1E 6HG United Kingdom</td>\n",
       "      <td>457</td>\n",
       "      <td>2/7/2016</td>\n",
       "      <td>6.8</td>\n",
       "      <td>Bloomsbury Palace Hotel</td>\n",
       "      <td>Netherlands</td>\n",
       "      <td>room is really small but guess is normal in London</td>\n",
       "      <td>12</td>\n",
       "      <td>2751</td>\n",
       "      <td>great location simple check in out nice shower</td>\n",
       "      <td>9</td>\n",
       "      <td>21</td>\n",
       "      <td>[' Business trip ', ' Solo traveler ', ' Single Room ', ' Stayed 1 night ']</td>\n",
       "      <td>543 day</td>\n",
       "      <td>None</td>\n",
       "      <td>None</td>\n",
       "      <td>1</td>\n",
       "      <td>8.3</td>\n",
       "    </tr>\n",
       "    <tr>\n",
       "      <th>515736</th>\n",
       "      <td>31 Great Cumberland Place Westminster Borough London W1H 7TA United Kingdom</td>\n",
       "      <td>365</td>\n",
       "      <td>5/21/2017</td>\n",
       "      <td>8.1</td>\n",
       "      <td>The Marble Arch London</td>\n",
       "      <td>United Arab Emirates</td>\n",
       "      <td>No Negative</td>\n",
       "      <td>0</td>\n",
       "      <td>1567</td>\n",
       "      <td>Location and very comfy bed</td>\n",
       "      <td>6</td>\n",
       "      <td>28</td>\n",
       "      <td>[' Leisure trip ', ' Solo traveler ', ' Deluxe Double Room ', ' Stayed 2 nights ']</td>\n",
       "      <td>74 days</td>\n",
       "      <td>None</td>\n",
       "      <td>None</td>\n",
       "      <td>1</td>\n",
       "      <td>9.2</td>\n",
       "    </tr>\n",
       "    <tr>\n",
       "      <th>515737</th>\n",
       "      <td>25 Courtfield Gardens Kensington and Chelsea London SW5 0PG United Kingdom</td>\n",
       "      <td>222</td>\n",
       "      <td>8/5/2016</td>\n",
       "      <td>9.0</td>\n",
       "      <td>The Nadler Kensington</td>\n",
       "      <td>Australia</td>\n",
       "      <td>Patio outside could have been cleaned of algae to give a more uplifting atmosphere to a downstairs room</td>\n",
       "      <td>20</td>\n",
       "      <td>1209</td>\n",
       "      <td>Beds comfortable Pillows also good Homely feel although room was small Staff very pleasant and helpful thank you</td>\n",
       "      <td>20</td>\n",
       "      <td>2</td>\n",
       "      <td>[' Leisure trip ', ' Couple ', ' Bunk Bed Room ', ' Stayed 4 nights ']</td>\n",
       "      <td>363 day</td>\n",
       "      <td>None</td>\n",
       "      <td>None</td>\n",
       "      <td>1</td>\n",
       "      <td>8.8</td>\n",
       "    </tr>\n",
       "  </tbody>\n",
       "</table></div>"
      ],
      "text/plain": [
       "                                            hotel_address  \\\n",
       "0                      Via Senigallia 6 20161 Milan Italy   \n",
       "1       Arlandaweg 10 Westpoort 1043 EW Amsterdam Neth...   \n",
       "2             Mallorca 251 Eixample 08008 Barcelona Spain   \n",
       "3       Piazza Della Repubblica 17 Central Station 201...   \n",
       "4       Singel 303 309 Amsterdam City Center 1012 WJ A...   \n",
       "...                                                   ...   \n",
       "515733  9 Knaresborough Place Kensington and Chelsea L...   \n",
       "515734  Landstra er Hauptstra e 155 03 Landstra e 1030...   \n",
       "515735  29 31 Gower Street Camden London WC1E 6HG Unit...   \n",
       "515736  31 Great Cumberland Place Westminster Borough ...   \n",
       "515737  25 Courtfield Gardens Kensington and Chelsea L...   \n",
       "\n",
       "        additional_number_of_scoring review_date  average_score  \\\n",
       "0                                904   7/21/2017            8.1   \n",
       "1                                612  12/12/2016            8.6   \n",
       "2                                 46  11/26/2015            8.3   \n",
       "3                                241  10/17/2015            9.1   \n",
       "4                                834   5/16/2016            9.1   \n",
       "...                              ...         ...            ...   \n",
       "515733                           107   4/19/2017            9.0   \n",
       "515734                           272   2/13/2017            8.4   \n",
       "515735                           457    2/7/2016            6.8   \n",
       "515736                           365   5/21/2017            8.1   \n",
       "515737                           222    8/5/2016            9.0   \n",
       "\n",
       "                                        hotel_name  \\\n",
       "0                                   Hotel Da Vinci   \n",
       "1                                Urban Lodge Hotel   \n",
       "2       Alexandra Barcelona A DoubleTree by Hilton   \n",
       "3                         Hotel Principe Di Savoia   \n",
       "4                                   Hotel Esther a   \n",
       "...                                            ...   \n",
       "515733                             Hotel Moonlight   \n",
       "515734               BEST WESTERN PLUS Amedia Wien   \n",
       "515735                     Bloomsbury Palace Hotel   \n",
       "515736                      The Marble Arch London   \n",
       "515737                       The Nadler Kensington   \n",
       "\n",
       "              reviewer_nationality  \\\n",
       "0                  United Kingdom    \n",
       "1                         Belgium    \n",
       "2                          Sweden    \n",
       "3        United States of America    \n",
       "4                  United Kingdom    \n",
       "...                            ...   \n",
       "515733                     France    \n",
       "515734                     Turkey    \n",
       "515735                Netherlands    \n",
       "515736       United Arab Emirates    \n",
       "515737                  Australia    \n",
       "\n",
       "                                          negative_review  \\\n",
       "0        Would have appreciated a shop in the hotel th...   \n",
       "1             No tissue paper box was present at the room   \n",
       "2                                                Pillows    \n",
       "3                                             No Negative   \n",
       "4                                             No Negative   \n",
       "...                                                   ...   \n",
       "515733                                        No Negative   \n",
       "515734                                        No Negative   \n",
       "515735   room is really small but guess is normal in L...   \n",
       "515736                                        No Negative   \n",
       "515737   Patio outside could have been cleaned of alga...   \n",
       "\n",
       "        review_total_negative_word_counts  total_number_of_reviews  \\\n",
       "0                                      52                    16670   \n",
       "1                                      10                     5018   \n",
       "2                                       3                      351   \n",
       "3                                       0                     1543   \n",
       "4                                       0                     4687   \n",
       "...                                   ...                      ...   \n",
       "515733                                  0                      617   \n",
       "515734                                  0                     3224   \n",
       "515735                                 12                     2751   \n",
       "515736                                  0                     1567   \n",
       "515737                                 20                     1209   \n",
       "\n",
       "                                          positive_review  \\\n",
       "0        Hotel was great clean friendly staff free bre...   \n",
       "1                                             No Positive   \n",
       "2                              Nice welcoming and service   \n",
       "3        Everything including the nice upgrade The Hot...   \n",
       "4                         Lovely hotel v welcoming staff    \n",
       "...                                                   ...   \n",
       "515733                 Tr s proche du metro Earl s court    \n",
       "515734   The bed was so comfy I stayed with my boyfrie...   \n",
       "515735     great location simple check in out nice shower   \n",
       "515736                        Location and very comfy bed   \n",
       "515737   Beds comfortable Pillows also good Homely fee...   \n",
       "\n",
       "        review_total_positive_word_counts  \\\n",
       "0                                      62   \n",
       "1                                       0   \n",
       "2                                       5   \n",
       "3                                      27   \n",
       "4                                       7   \n",
       "...                                   ...   \n",
       "515733                                 10   \n",
       "515734                                 93   \n",
       "515735                                  9   \n",
       "515736                                  6   \n",
       "515737                                 20   \n",
       "\n",
       "        total_number_of_reviews_reviewer_has_given  \\\n",
       "0                                                1   \n",
       "1                                                7   \n",
       "2                                               15   \n",
       "3                                                9   \n",
       "4                                                2   \n",
       "...                                            ...   \n",
       "515733                                          10   \n",
       "515734                                           1   \n",
       "515735                                          21   \n",
       "515736                                          28   \n",
       "515737                                           2   \n",
       "\n",
       "                                                     tags days_since_review  \\\n",
       "0       [' Leisure trip ', ' Couple ', ' Double Room '...           13 days   \n",
       "1       [' Leisure trip ', ' Group ', ' Triple Room ',...           234 day   \n",
       "2       [' Business trip ', ' Solo traveler ', ' Twin ...           616 day   \n",
       "3       [' Leisure trip ', ' Couple ', ' Ambassador Ju...           656 day   \n",
       "4       [' Business trip ', ' Solo traveler ', ' Class...           444 day   \n",
       "...                                                   ...               ...   \n",
       "515733  [' Leisure trip ', ' Group ', ' Club Double or...           106 day   \n",
       "515734  [' Leisure trip ', ' Couple ', ' Standard Doub...           171 day   \n",
       "515735  [' Business trip ', ' Solo traveler ', ' Singl...           543 day   \n",
       "515736  [' Leisure trip ', ' Solo traveler ', ' Deluxe...           74 days   \n",
       "515737  [' Leisure trip ', ' Couple ', ' Bunk Bed Room...           363 day   \n",
       "\n",
       "         lat   lng  sample  reviewer_score  \n",
       "0       None  None       0             0.0  \n",
       "1       None  None       0             0.0  \n",
       "2       None  None       0             0.0  \n",
       "3       None  None       0             0.0  \n",
       "4       None  None       0             0.0  \n",
       "...      ...   ...     ...             ...  \n",
       "515733  None  None       1             8.8  \n",
       "515734  None  None       1             9.2  \n",
       "515735  None  None       1             8.3  \n",
       "515736  None  None       1             9.2  \n",
       "515737  None  None       1             8.8  \n",
       "\n",
       "[515402 rows x 18 columns]"
      ]
     },
     "execution_count": 15,
     "metadata": {},
     "output_type": "execute_result"
    }
   ],
   "source": [
    "mask = data.duplicated(subset=data.columns) # маска для фильтрации\n",
    "data_duplicates = data[mask] # фильтруем наш датасет\n",
    "print(f'Число найденных дубликатов: {data_duplicates.shape[0]}')\n",
    "data.drop_duplicates()"
   ]
  },
  {
   "cell_type": "markdown",
   "metadata": {},
   "source": [
    "# Обработка признаков\n",
    "## Признак hotel_address"
   ]
  },
  {
   "cell_type": "code",
   "execution_count": 16,
   "metadata": {},
   "outputs": [
    {
     "data": {
      "text/plain": [
       "hotel_name\n",
       "Hotel Regina                                    3\n",
       "11 Cadogan Gardens                              1\n",
       "Mercure Paris Gare Montparnasse                 1\n",
       "Mercure Paris Pigalle Sacre Coeur               1\n",
       "Mercure Paris Opera Louvre                      1\n",
       "                                               ..\n",
       "Ham Yard Hotel                                  1\n",
       "Hallmark Hotel London Chigwell Prince Regent    1\n",
       "HCC St Moritz                                   1\n",
       "HCC Regente                                     1\n",
       "pentahotel Vienna                               1\n",
       "Name: sample, Length: 1492, dtype: int64"
      ]
     },
     "execution_count": 16,
     "metadata": {},
     "output_type": "execute_result"
    }
   ],
   "source": [
    "#выявляем отели с одинаковыми называниями и разными адресами\n",
    "grouped_data = data.groupby(['hotel_name','hotel_address'])['sample'].count().sort_values()\n",
    "grouped_data.groupby('hotel_name').count().sort_values(ascending=False)"
   ]
  },
  {
   "cell_type": "code",
   "execution_count": 17,
   "metadata": {},
   "outputs": [
    {
     "data": {
      "text/plain": [
       "array(['Bergara 2 4 Eixample 08002 Barcelona Spain',\n",
       "       'Rooseveltplatz 15 09 Alsergrund 1090 Vienna Austria',\n",
       "       'Via Cesare Correnti 13 Milan City Center 20123 Milan Italy'],\n",
       "      dtype=object)"
      ]
     },
     "execution_count": 17,
     "metadata": {},
     "output_type": "execute_result"
    }
   ],
   "source": [
    "data[data['hotel_name'] == 'Hotel Regina']['hotel_address'].unique()"
   ]
  },
  {
   "cell_type": "markdown",
   "metadata": {},
   "source": [
    "## Сколько отелей представлено в наборе данных?"
   ]
  },
  {
   "cell_type": "code",
   "execution_count": 18,
   "metadata": {},
   "outputs": [
    {
     "name": "stdout",
     "output_type": "stream",
     "text": [
      "1492\n"
     ]
    }
   ],
   "source": [
    "hotel_name2 = list(dict.fromkeys(data['hotel_name']))\n",
    "print(len(hotel_name2))"
   ]
  },
  {
   "cell_type": "markdown",
   "metadata": {},
   "source": [
    "## Три отеля, расположенные в разных городах, имеют одинаковые названия - \"Hotel Regina\"."
   ]
  },
  {
   "cell_type": "code",
   "execution_count": 19,
   "metadata": {},
   "outputs": [],
   "source": [
    "# изменяем называние отелей, указывая город\n",
    "data.loc[(data['hotel_address'] == 'Rooseveltplatz 15 09 Alsergrund 1090 Vienna Austria'),'hotel_name'] = 'Hotel Regina in Vienna'\n",
    "data.loc[(data['hotel_address'] == 'Via Cesare Correnti 13 Milan City Center 20123 Milan Italy'),'hotel_name'] = 'Hotel Regina in Milan'"
   ]
  },
  {
   "cell_type": "code",
   "execution_count": 20,
   "metadata": {},
   "outputs": [],
   "source": [
    "data = data.drop(['lat', 'lng'], axis=1)"
   ]
  },
  {
   "cell_type": "code",
   "execution_count": 21,
   "metadata": {},
   "outputs": [
    {
     "data": {
      "text/plain": [
       "hotel_address                                   1493\n",
       "additional_number_of_scoring                     480\n",
       "review_date                                      731\n",
       "average_score                                     34\n",
       "hotel_name                                      1494\n",
       "reviewer_nationality                             227\n",
       "negative_review                               330011\n",
       "review_total_negative_word_counts                402\n",
       "total_number_of_reviews                         1142\n",
       "positive_review                               412601\n",
       "review_total_positive_word_counts                365\n",
       "total_number_of_reviews_reviewer_has_given       198\n",
       "tags                                           55242\n",
       "days_since_review                                731\n",
       "sample                                             2\n",
       "reviewer_score                                    38\n",
       "dtype: int64"
      ]
     },
     "execution_count": 21,
     "metadata": {},
     "output_type": "execute_result"
    }
   ],
   "source": [
    "data.nunique(dropna=False)"
   ]
  },
  {
   "cell_type": "code",
   "execution_count": 22,
   "metadata": {},
   "outputs": [],
   "source": [
    "#выделяем страну и название города из признака hotel_address\n",
    "data['hotel_city'] = data['hotel_address'].apply(lambda x: x.split()[-5] if x.endswith('United Kingdom') else x.split()[-2])\n",
    "data['hotel_country'] = data['hotel_address'].apply(lambda x: 'United Kingdom' if x.endswith('United Kingdom') else x.split()[-1])\n",
    "data.drop('hotel_address',axis=1, inplace=True)"
   ]
  },
  {
   "cell_type": "code",
   "execution_count": 23,
   "metadata": {},
   "outputs": [
    {
     "data": {
      "text/html": [
       "<div><div id=2a25bda3-a4e7-4fe1-b044-7797229e30fa style=\"display:none; background-color:#9D6CFF; color:white; width:200px; height:30px; padding-left:5px; border-radius:4px; flex-direction:row; justify-content:space-around; align-items:center;\" onmouseover=\"this.style.backgroundColor='#BA9BF8'\" onmouseout=\"this.style.backgroundColor='#9D6CFF'\" onclick=\"window.commands?.execute('create-mitosheet-from-dataframe-output');\">See Full Dataframe in Mito</div> <script> if (window.commands?.hasCommand('create-mitosheet-from-dataframe-output')) document.getElementById('2a25bda3-a4e7-4fe1-b044-7797229e30fa').style.display = 'flex' </script> <table border=\"1\" class=\"dataframe\">\n",
       "  <thead>\n",
       "    <tr style=\"text-align: right;\">\n",
       "      <th></th>\n",
       "      <th></th>\n",
       "      <th>sample</th>\n",
       "    </tr>\n",
       "    <tr>\n",
       "      <th>hotel_country</th>\n",
       "      <th>hotel_city</th>\n",
       "      <th></th>\n",
       "    </tr>\n",
       "  </thead>\n",
       "  <tbody>\n",
       "    <tr>\n",
       "      <th>Austria</th>\n",
       "      <th>Vienna</th>\n",
       "      <td>38939</td>\n",
       "    </tr>\n",
       "    <tr>\n",
       "      <th>France</th>\n",
       "      <th>Paris</th>\n",
       "      <td>59928</td>\n",
       "    </tr>\n",
       "    <tr>\n",
       "      <th>Italy</th>\n",
       "      <th>Milan</th>\n",
       "      <td>37207</td>\n",
       "    </tr>\n",
       "    <tr>\n",
       "      <th>Netherlands</th>\n",
       "      <th>Amsterdam</th>\n",
       "      <td>57214</td>\n",
       "    </tr>\n",
       "    <tr>\n",
       "      <th>Spain</th>\n",
       "      <th>Barcelona</th>\n",
       "      <td>60149</td>\n",
       "    </tr>\n",
       "    <tr>\n",
       "      <th>United Kingdom</th>\n",
       "      <th>London</th>\n",
       "      <td>262301</td>\n",
       "    </tr>\n",
       "  </tbody>\n",
       "</table></div>"
      ],
      "text/plain": [
       "                           sample\n",
       "hotel_country  hotel_city        \n",
       "Austria        Vienna       38939\n",
       "France         Paris        59928\n",
       "Italy          Milan        37207\n",
       "Netherlands    Amsterdam    57214\n",
       "Spain          Barcelona    60149\n",
       "United Kingdom London      262301"
      ]
     },
     "execution_count": 23,
     "metadata": {},
     "output_type": "execute_result"
    }
   ],
   "source": [
    "#сводная таблица распределения городов отелей по странам\n",
    "pd.pivot_table(\n",
    "    data, \n",
    "    values = 'sample', \n",
    "    index = ['hotel_country','hotel_city'], \n",
    "    aggfunc = 'count'\n",
    ")"
   ]
  },
  {
   "cell_type": "markdown",
   "metadata": {},
   "source": [
    "## Одной стране соответствует один город. Соответственно, надо будет закодировать только один из признаков."
   ]
  },
  {
   "cell_type": "code",
   "execution_count": 24,
   "metadata": {},
   "outputs": [
    {
     "data": {
      "text/html": [
       "<div><div id=106062bf-cecc-476e-aeb0-db2cbf06287b style=\"display:none; background-color:#9D6CFF; color:white; width:200px; height:30px; padding-left:5px; border-radius:4px; flex-direction:row; justify-content:space-around; align-items:center;\" onmouseover=\"this.style.backgroundColor='#BA9BF8'\" onmouseout=\"this.style.backgroundColor='#9D6CFF'\" onclick=\"window.commands?.execute('create-mitosheet-from-dataframe-output');\">See Full Dataframe in Mito</div> <script> if (window.commands?.hasCommand('create-mitosheet-from-dataframe-output')) document.getElementById('106062bf-cecc-476e-aeb0-db2cbf06287b').style.display = 'flex' </script> <table border=\"1\" class=\"dataframe\">\n",
       "  <thead>\n",
       "    <tr style=\"text-align: right;\">\n",
       "      <th></th>\n",
       "      <th>hotel_name</th>\n",
       "      <th>hotel_country</th>\n",
       "      <th>sample</th>\n",
       "    </tr>\n",
       "  </thead>\n",
       "  <tbody>\n",
       "    <tr>\n",
       "      <th>0</th>\n",
       "      <td>11 Cadogan Gardens</td>\n",
       "      <td>United Kingdom</td>\n",
       "      <td>159</td>\n",
       "    </tr>\n",
       "    <tr>\n",
       "      <th>1</th>\n",
       "      <td>1K Hotel</td>\n",
       "      <td>France</td>\n",
       "      <td>148</td>\n",
       "    </tr>\n",
       "    <tr>\n",
       "      <th>2</th>\n",
       "      <td>25hours Hotel beim MuseumsQuartier</td>\n",
       "      <td>Austria</td>\n",
       "      <td>689</td>\n",
       "    </tr>\n",
       "    <tr>\n",
       "      <th>3</th>\n",
       "      <td>41</td>\n",
       "      <td>United Kingdom</td>\n",
       "      <td>103</td>\n",
       "    </tr>\n",
       "    <tr>\n",
       "      <th>4</th>\n",
       "      <td>45 Park Lane Dorchester Collection</td>\n",
       "      <td>United Kingdom</td>\n",
       "      <td>28</td>\n",
       "    </tr>\n",
       "    <tr>\n",
       "      <th>...</th>\n",
       "      <td>...</td>\n",
       "      <td>...</td>\n",
       "      <td>...</td>\n",
       "    </tr>\n",
       "    <tr>\n",
       "      <th>1489</th>\n",
       "      <td>citizenM London Bankside</td>\n",
       "      <td>United Kingdom</td>\n",
       "      <td>1517</td>\n",
       "    </tr>\n",
       "    <tr>\n",
       "      <th>1490</th>\n",
       "      <td>citizenM London Shoreditch</td>\n",
       "      <td>United Kingdom</td>\n",
       "      <td>838</td>\n",
       "    </tr>\n",
       "    <tr>\n",
       "      <th>1491</th>\n",
       "      <td>citizenM Tower of London</td>\n",
       "      <td>United Kingdom</td>\n",
       "      <td>1683</td>\n",
       "    </tr>\n",
       "    <tr>\n",
       "      <th>1492</th>\n",
       "      <td>every hotel Piccadilly</td>\n",
       "      <td>United Kingdom</td>\n",
       "      <td>568</td>\n",
       "    </tr>\n",
       "    <tr>\n",
       "      <th>1493</th>\n",
       "      <td>pentahotel Vienna</td>\n",
       "      <td>Austria</td>\n",
       "      <td>129</td>\n",
       "    </tr>\n",
       "  </tbody>\n",
       "</table></div>"
      ],
      "text/plain": [
       "                              hotel_name   hotel_country  sample\n",
       "0                     11 Cadogan Gardens  United Kingdom     159\n",
       "1                               1K Hotel          France     148\n",
       "2     25hours Hotel beim MuseumsQuartier         Austria     689\n",
       "3                                     41  United Kingdom     103\n",
       "4     45 Park Lane Dorchester Collection  United Kingdom      28\n",
       "...                                  ...             ...     ...\n",
       "1489            citizenM London Bankside  United Kingdom    1517\n",
       "1490          citizenM London Shoreditch  United Kingdom     838\n",
       "1491            citizenM Tower of London  United Kingdom    1683\n",
       "1492              every hotel Piccadilly  United Kingdom     568\n",
       "1493                   pentahotel Vienna         Austria     129\n",
       "\n",
       "[1494 rows x 3 columns]"
      ]
     },
     "execution_count": 24,
     "metadata": {},
     "output_type": "execute_result"
    }
   ],
   "source": [
    "# график распределения отелей по странам с учетом того, что по каждому отелю в данных существует некоторое количество отзывов\n",
    "country_hotels = data.groupby(['hotel_name','hotel_country'], as_index=False)['sample'].count()\n",
    "country_hotels"
   ]
  },
  {
   "cell_type": "code",
   "execution_count": 25,
   "metadata": {},
   "outputs": [
    {
     "data": {
      "text/html": [
       "<div><div id=6b0810d7-06ae-488d-8b97-7d56092433b6 style=\"display:none; background-color:#9D6CFF; color:white; width:200px; height:30px; padding-left:5px; border-radius:4px; flex-direction:row; justify-content:space-around; align-items:center;\" onmouseover=\"this.style.backgroundColor='#BA9BF8'\" onmouseout=\"this.style.backgroundColor='#9D6CFF'\" onclick=\"window.commands?.execute('create-mitosheet-from-dataframe-output');\">See Full Dataframe in Mito</div> <script> if (window.commands?.hasCommand('create-mitosheet-from-dataframe-output')) document.getElementById('6b0810d7-06ae-488d-8b97-7d56092433b6').style.display = 'flex' </script> <table border=\"1\" class=\"dataframe\">\n",
       "  <thead>\n",
       "    <tr style=\"text-align: right;\">\n",
       "      <th></th>\n",
       "      <th>hotel_country</th>\n",
       "      <th>hotels_number</th>\n",
       "    </tr>\n",
       "  </thead>\n",
       "  <tbody>\n",
       "    <tr>\n",
       "      <th>0</th>\n",
       "      <td>Austria</td>\n",
       "      <td>158</td>\n",
       "    </tr>\n",
       "    <tr>\n",
       "      <th>1</th>\n",
       "      <td>France</td>\n",
       "      <td>458</td>\n",
       "    </tr>\n",
       "    <tr>\n",
       "      <th>2</th>\n",
       "      <td>Italy</td>\n",
       "      <td>162</td>\n",
       "    </tr>\n",
       "    <tr>\n",
       "      <th>3</th>\n",
       "      <td>Netherlands</td>\n",
       "      <td>105</td>\n",
       "    </tr>\n",
       "    <tr>\n",
       "      <th>4</th>\n",
       "      <td>Spain</td>\n",
       "      <td>211</td>\n",
       "    </tr>\n",
       "    <tr>\n",
       "      <th>5</th>\n",
       "      <td>United Kingdom</td>\n",
       "      <td>400</td>\n",
       "    </tr>\n",
       "  </tbody>\n",
       "</table></div>"
      ],
      "text/plain": [
       "    hotel_country  hotels_number\n",
       "0         Austria            158\n",
       "1          France            458\n",
       "2           Italy            162\n",
       "3     Netherlands            105\n",
       "4           Spain            211\n",
       "5  United Kingdom            400"
      ]
     },
     "execution_count": 25,
     "metadata": {},
     "output_type": "execute_result"
    }
   ],
   "source": [
    "#данные для построения графика о распределении отелей по странам\n",
    "country_hotels_grouped = country_hotels.groupby('hotel_country',as_index=False)['hotel_name'].count()\n",
    "country_hotels_grouped.rename(columns={'hotel_name':'hotels_number'},inplace=True)\n",
    "country_hotels_grouped"
   ]
  },
  {
   "cell_type": "code",
   "execution_count": 26,
   "metadata": {},
   "outputs": [
    {
     "data": {
      "application/vnd.plotly.v1+json": {
       "config": {
        "plotlyServerURL": "https://plot.ly"
       },
       "data": [
        {
         "alignmentgroup": "True",
         "hovertemplate": "hotel_country=%{x}<br>hotels_number=%{text}<extra></extra>",
         "legendgroup": "Austria",
         "marker": {
          "color": "#636efa",
          "pattern": {
           "shape": ""
          }
         },
         "name": "Austria",
         "offsetgroup": "Austria",
         "orientation": "v",
         "showlegend": true,
         "text": [
          158
         ],
         "textposition": "auto",
         "type": "bar",
         "x": [
          "Austria"
         ],
         "xaxis": "x",
         "y": [
          158
         ],
         "yaxis": "y"
        },
        {
         "alignmentgroup": "True",
         "hovertemplate": "hotel_country=%{x}<br>hotels_number=%{text}<extra></extra>",
         "legendgroup": "France",
         "marker": {
          "color": "#EF553B",
          "pattern": {
           "shape": ""
          }
         },
         "name": "France",
         "offsetgroup": "France",
         "orientation": "v",
         "showlegend": true,
         "text": [
          458
         ],
         "textposition": "auto",
         "type": "bar",
         "x": [
          "France"
         ],
         "xaxis": "x",
         "y": [
          458
         ],
         "yaxis": "y"
        },
        {
         "alignmentgroup": "True",
         "hovertemplate": "hotel_country=%{x}<br>hotels_number=%{text}<extra></extra>",
         "legendgroup": "Italy",
         "marker": {
          "color": "#00cc96",
          "pattern": {
           "shape": ""
          }
         },
         "name": "Italy",
         "offsetgroup": "Italy",
         "orientation": "v",
         "showlegend": true,
         "text": [
          162
         ],
         "textposition": "auto",
         "type": "bar",
         "x": [
          "Italy"
         ],
         "xaxis": "x",
         "y": [
          162
         ],
         "yaxis": "y"
        },
        {
         "alignmentgroup": "True",
         "hovertemplate": "hotel_country=%{x}<br>hotels_number=%{text}<extra></extra>",
         "legendgroup": "Netherlands",
         "marker": {
          "color": "#ab63fa",
          "pattern": {
           "shape": ""
          }
         },
         "name": "Netherlands",
         "offsetgroup": "Netherlands",
         "orientation": "v",
         "showlegend": true,
         "text": [
          105
         ],
         "textposition": "auto",
         "type": "bar",
         "x": [
          "Netherlands"
         ],
         "xaxis": "x",
         "y": [
          105
         ],
         "yaxis": "y"
        },
        {
         "alignmentgroup": "True",
         "hovertemplate": "hotel_country=%{x}<br>hotels_number=%{text}<extra></extra>",
         "legendgroup": "Spain",
         "marker": {
          "color": "#FFA15A",
          "pattern": {
           "shape": ""
          }
         },
         "name": "Spain",
         "offsetgroup": "Spain",
         "orientation": "v",
         "showlegend": true,
         "text": [
          211
         ],
         "textposition": "auto",
         "type": "bar",
         "x": [
          "Spain"
         ],
         "xaxis": "x",
         "y": [
          211
         ],
         "yaxis": "y"
        },
        {
         "alignmentgroup": "True",
         "hovertemplate": "hotel_country=%{x}<br>hotels_number=%{text}<extra></extra>",
         "legendgroup": "United Kingdom",
         "marker": {
          "color": "#19d3f3",
          "pattern": {
           "shape": ""
          }
         },
         "name": "United Kingdom",
         "offsetgroup": "United Kingdom",
         "orientation": "v",
         "showlegend": true,
         "text": [
          400
         ],
         "textposition": "auto",
         "type": "bar",
         "x": [
          "United Kingdom"
         ],
         "xaxis": "x",
         "y": [
          400
         ],
         "yaxis": "y"
        }
       ],
       "layout": {
        "barmode": "relative",
        "height": 500,
        "legend": {
         "title": {
          "text": "hotel_country"
         },
         "tracegroupgap": 0
        },
        "template": {
         "data": {
          "bar": [
           {
            "error_x": {
             "color": "#2a3f5f"
            },
            "error_y": {
             "color": "#2a3f5f"
            },
            "marker": {
             "line": {
              "color": "#E5ECF6",
              "width": 0.5
             },
             "pattern": {
              "fillmode": "overlay",
              "size": 10,
              "solidity": 0.2
             }
            },
            "type": "bar"
           }
          ],
          "barpolar": [
           {
            "marker": {
             "line": {
              "color": "#E5ECF6",
              "width": 0.5
             },
             "pattern": {
              "fillmode": "overlay",
              "size": 10,
              "solidity": 0.2
             }
            },
            "type": "barpolar"
           }
          ],
          "carpet": [
           {
            "aaxis": {
             "endlinecolor": "#2a3f5f",
             "gridcolor": "white",
             "linecolor": "white",
             "minorgridcolor": "white",
             "startlinecolor": "#2a3f5f"
            },
            "baxis": {
             "endlinecolor": "#2a3f5f",
             "gridcolor": "white",
             "linecolor": "white",
             "minorgridcolor": "white",
             "startlinecolor": "#2a3f5f"
            },
            "type": "carpet"
           }
          ],
          "choropleth": [
           {
            "colorbar": {
             "outlinewidth": 0,
             "ticks": ""
            },
            "type": "choropleth"
           }
          ],
          "contour": [
           {
            "colorbar": {
             "outlinewidth": 0,
             "ticks": ""
            },
            "colorscale": [
             [
              0,
              "#0d0887"
             ],
             [
              0.1111111111111111,
              "#46039f"
             ],
             [
              0.2222222222222222,
              "#7201a8"
             ],
             [
              0.3333333333333333,
              "#9c179e"
             ],
             [
              0.4444444444444444,
              "#bd3786"
             ],
             [
              0.5555555555555556,
              "#d8576b"
             ],
             [
              0.6666666666666666,
              "#ed7953"
             ],
             [
              0.7777777777777778,
              "#fb9f3a"
             ],
             [
              0.8888888888888888,
              "#fdca26"
             ],
             [
              1,
              "#f0f921"
             ]
            ],
            "type": "contour"
           }
          ],
          "contourcarpet": [
           {
            "colorbar": {
             "outlinewidth": 0,
             "ticks": ""
            },
            "type": "contourcarpet"
           }
          ],
          "heatmap": [
           {
            "colorbar": {
             "outlinewidth": 0,
             "ticks": ""
            },
            "colorscale": [
             [
              0,
              "#0d0887"
             ],
             [
              0.1111111111111111,
              "#46039f"
             ],
             [
              0.2222222222222222,
              "#7201a8"
             ],
             [
              0.3333333333333333,
              "#9c179e"
             ],
             [
              0.4444444444444444,
              "#bd3786"
             ],
             [
              0.5555555555555556,
              "#d8576b"
             ],
             [
              0.6666666666666666,
              "#ed7953"
             ],
             [
              0.7777777777777778,
              "#fb9f3a"
             ],
             [
              0.8888888888888888,
              "#fdca26"
             ],
             [
              1,
              "#f0f921"
             ]
            ],
            "type": "heatmap"
           }
          ],
          "heatmapgl": [
           {
            "colorbar": {
             "outlinewidth": 0,
             "ticks": ""
            },
            "colorscale": [
             [
              0,
              "#0d0887"
             ],
             [
              0.1111111111111111,
              "#46039f"
             ],
             [
              0.2222222222222222,
              "#7201a8"
             ],
             [
              0.3333333333333333,
              "#9c179e"
             ],
             [
              0.4444444444444444,
              "#bd3786"
             ],
             [
              0.5555555555555556,
              "#d8576b"
             ],
             [
              0.6666666666666666,
              "#ed7953"
             ],
             [
              0.7777777777777778,
              "#fb9f3a"
             ],
             [
              0.8888888888888888,
              "#fdca26"
             ],
             [
              1,
              "#f0f921"
             ]
            ],
            "type": "heatmapgl"
           }
          ],
          "histogram": [
           {
            "marker": {
             "pattern": {
              "fillmode": "overlay",
              "size": 10,
              "solidity": 0.2
             }
            },
            "type": "histogram"
           }
          ],
          "histogram2d": [
           {
            "colorbar": {
             "outlinewidth": 0,
             "ticks": ""
            },
            "colorscale": [
             [
              0,
              "#0d0887"
             ],
             [
              0.1111111111111111,
              "#46039f"
             ],
             [
              0.2222222222222222,
              "#7201a8"
             ],
             [
              0.3333333333333333,
              "#9c179e"
             ],
             [
              0.4444444444444444,
              "#bd3786"
             ],
             [
              0.5555555555555556,
              "#d8576b"
             ],
             [
              0.6666666666666666,
              "#ed7953"
             ],
             [
              0.7777777777777778,
              "#fb9f3a"
             ],
             [
              0.8888888888888888,
              "#fdca26"
             ],
             [
              1,
              "#f0f921"
             ]
            ],
            "type": "histogram2d"
           }
          ],
          "histogram2dcontour": [
           {
            "colorbar": {
             "outlinewidth": 0,
             "ticks": ""
            },
            "colorscale": [
             [
              0,
              "#0d0887"
             ],
             [
              0.1111111111111111,
              "#46039f"
             ],
             [
              0.2222222222222222,
              "#7201a8"
             ],
             [
              0.3333333333333333,
              "#9c179e"
             ],
             [
              0.4444444444444444,
              "#bd3786"
             ],
             [
              0.5555555555555556,
              "#d8576b"
             ],
             [
              0.6666666666666666,
              "#ed7953"
             ],
             [
              0.7777777777777778,
              "#fb9f3a"
             ],
             [
              0.8888888888888888,
              "#fdca26"
             ],
             [
              1,
              "#f0f921"
             ]
            ],
            "type": "histogram2dcontour"
           }
          ],
          "mesh3d": [
           {
            "colorbar": {
             "outlinewidth": 0,
             "ticks": ""
            },
            "type": "mesh3d"
           }
          ],
          "parcoords": [
           {
            "line": {
             "colorbar": {
              "outlinewidth": 0,
              "ticks": ""
             }
            },
            "type": "parcoords"
           }
          ],
          "pie": [
           {
            "automargin": true,
            "type": "pie"
           }
          ],
          "scatter": [
           {
            "fillpattern": {
             "fillmode": "overlay",
             "size": 10,
             "solidity": 0.2
            },
            "type": "scatter"
           }
          ],
          "scatter3d": [
           {
            "line": {
             "colorbar": {
              "outlinewidth": 0,
              "ticks": ""
             }
            },
            "marker": {
             "colorbar": {
              "outlinewidth": 0,
              "ticks": ""
             }
            },
            "type": "scatter3d"
           }
          ],
          "scattercarpet": [
           {
            "marker": {
             "colorbar": {
              "outlinewidth": 0,
              "ticks": ""
             }
            },
            "type": "scattercarpet"
           }
          ],
          "scattergeo": [
           {
            "marker": {
             "colorbar": {
              "outlinewidth": 0,
              "ticks": ""
             }
            },
            "type": "scattergeo"
           }
          ],
          "scattergl": [
           {
            "marker": {
             "colorbar": {
              "outlinewidth": 0,
              "ticks": ""
             }
            },
            "type": "scattergl"
           }
          ],
          "scattermapbox": [
           {
            "marker": {
             "colorbar": {
              "outlinewidth": 0,
              "ticks": ""
             }
            },
            "type": "scattermapbox"
           }
          ],
          "scatterpolar": [
           {
            "marker": {
             "colorbar": {
              "outlinewidth": 0,
              "ticks": ""
             }
            },
            "type": "scatterpolar"
           }
          ],
          "scatterpolargl": [
           {
            "marker": {
             "colorbar": {
              "outlinewidth": 0,
              "ticks": ""
             }
            },
            "type": "scatterpolargl"
           }
          ],
          "scatterternary": [
           {
            "marker": {
             "colorbar": {
              "outlinewidth": 0,
              "ticks": ""
             }
            },
            "type": "scatterternary"
           }
          ],
          "surface": [
           {
            "colorbar": {
             "outlinewidth": 0,
             "ticks": ""
            },
            "colorscale": [
             [
              0,
              "#0d0887"
             ],
             [
              0.1111111111111111,
              "#46039f"
             ],
             [
              0.2222222222222222,
              "#7201a8"
             ],
             [
              0.3333333333333333,
              "#9c179e"
             ],
             [
              0.4444444444444444,
              "#bd3786"
             ],
             [
              0.5555555555555556,
              "#d8576b"
             ],
             [
              0.6666666666666666,
              "#ed7953"
             ],
             [
              0.7777777777777778,
              "#fb9f3a"
             ],
             [
              0.8888888888888888,
              "#fdca26"
             ],
             [
              1,
              "#f0f921"
             ]
            ],
            "type": "surface"
           }
          ],
          "table": [
           {
            "cells": {
             "fill": {
              "color": "#EBF0F8"
             },
             "line": {
              "color": "white"
             }
            },
            "header": {
             "fill": {
              "color": "#C8D4E3"
             },
             "line": {
              "color": "white"
             }
            },
            "type": "table"
           }
          ]
         },
         "layout": {
          "annotationdefaults": {
           "arrowcolor": "#2a3f5f",
           "arrowhead": 0,
           "arrowwidth": 1
          },
          "autotypenumbers": "strict",
          "coloraxis": {
           "colorbar": {
            "outlinewidth": 0,
            "ticks": ""
           }
          },
          "colorscale": {
           "diverging": [
            [
             0,
             "#8e0152"
            ],
            [
             0.1,
             "#c51b7d"
            ],
            [
             0.2,
             "#de77ae"
            ],
            [
             0.3,
             "#f1b6da"
            ],
            [
             0.4,
             "#fde0ef"
            ],
            [
             0.5,
             "#f7f7f7"
            ],
            [
             0.6,
             "#e6f5d0"
            ],
            [
             0.7,
             "#b8e186"
            ],
            [
             0.8,
             "#7fbc41"
            ],
            [
             0.9,
             "#4d9221"
            ],
            [
             1,
             "#276419"
            ]
           ],
           "sequential": [
            [
             0,
             "#0d0887"
            ],
            [
             0.1111111111111111,
             "#46039f"
            ],
            [
             0.2222222222222222,
             "#7201a8"
            ],
            [
             0.3333333333333333,
             "#9c179e"
            ],
            [
             0.4444444444444444,
             "#bd3786"
            ],
            [
             0.5555555555555556,
             "#d8576b"
            ],
            [
             0.6666666666666666,
             "#ed7953"
            ],
            [
             0.7777777777777778,
             "#fb9f3a"
            ],
            [
             0.8888888888888888,
             "#fdca26"
            ],
            [
             1,
             "#f0f921"
            ]
           ],
           "sequentialminus": [
            [
             0,
             "#0d0887"
            ],
            [
             0.1111111111111111,
             "#46039f"
            ],
            [
             0.2222222222222222,
             "#7201a8"
            ],
            [
             0.3333333333333333,
             "#9c179e"
            ],
            [
             0.4444444444444444,
             "#bd3786"
            ],
            [
             0.5555555555555556,
             "#d8576b"
            ],
            [
             0.6666666666666666,
             "#ed7953"
            ],
            [
             0.7777777777777778,
             "#fb9f3a"
            ],
            [
             0.8888888888888888,
             "#fdca26"
            ],
            [
             1,
             "#f0f921"
            ]
           ]
          },
          "colorway": [
           "#636efa",
           "#EF553B",
           "#00cc96",
           "#ab63fa",
           "#FFA15A",
           "#19d3f3",
           "#FF6692",
           "#B6E880",
           "#FF97FF",
           "#FECB52"
          ],
          "font": {
           "color": "#2a3f5f"
          },
          "geo": {
           "bgcolor": "white",
           "lakecolor": "white",
           "landcolor": "#E5ECF6",
           "showlakes": true,
           "showland": true,
           "subunitcolor": "white"
          },
          "hoverlabel": {
           "align": "left"
          },
          "hovermode": "closest",
          "mapbox": {
           "style": "light"
          },
          "paper_bgcolor": "white",
          "plot_bgcolor": "#E5ECF6",
          "polar": {
           "angularaxis": {
            "gridcolor": "white",
            "linecolor": "white",
            "ticks": ""
           },
           "bgcolor": "#E5ECF6",
           "radialaxis": {
            "gridcolor": "white",
            "linecolor": "white",
            "ticks": ""
           }
          },
          "scene": {
           "xaxis": {
            "backgroundcolor": "#E5ECF6",
            "gridcolor": "white",
            "gridwidth": 2,
            "linecolor": "white",
            "showbackground": true,
            "ticks": "",
            "zerolinecolor": "white"
           },
           "yaxis": {
            "backgroundcolor": "#E5ECF6",
            "gridcolor": "white",
            "gridwidth": 2,
            "linecolor": "white",
            "showbackground": true,
            "ticks": "",
            "zerolinecolor": "white"
           },
           "zaxis": {
            "backgroundcolor": "#E5ECF6",
            "gridcolor": "white",
            "gridwidth": 2,
            "linecolor": "white",
            "showbackground": true,
            "ticks": "",
            "zerolinecolor": "white"
           }
          },
          "shapedefaults": {
           "line": {
            "color": "#2a3f5f"
           }
          },
          "ternary": {
           "aaxis": {
            "gridcolor": "white",
            "linecolor": "white",
            "ticks": ""
           },
           "baxis": {
            "gridcolor": "white",
            "linecolor": "white",
            "ticks": ""
           },
           "bgcolor": "#E5ECF6",
           "caxis": {
            "gridcolor": "white",
            "linecolor": "white",
            "ticks": ""
           }
          },
          "title": {
           "x": 0.05
          },
          "xaxis": {
           "automargin": true,
           "gridcolor": "white",
           "linecolor": "white",
           "ticks": "",
           "title": {
            "standoff": 15
           },
           "zerolinecolor": "white",
           "zerolinewidth": 2
          },
          "yaxis": {
           "automargin": true,
           "gridcolor": "white",
           "linecolor": "white",
           "ticks": "",
           "title": {
            "standoff": 15
           },
           "zerolinecolor": "white",
           "zerolinewidth": 2
          }
         }
        },
        "title": {
         "text": "Распределение отелей по странам"
        },
        "width": 1000,
        "xaxis": {
         "anchor": "y",
         "categoryarray": [
          "Austria",
          "France",
          "Italy",
          "Netherlands",
          "Spain",
          "United Kingdom"
         ],
         "categoryorder": "array",
         "domain": [
          0,
          1
         ],
         "title": {
          "text": "hotel_country"
         }
        },
        "yaxis": {
         "anchor": "x",
         "domain": [
          0,
          1
         ],
         "title": {
          "text": "hotels_number"
         }
        }
       }
      }
     },
     "metadata": {},
     "output_type": "display_data"
    }
   ],
   "source": [
    "fig = px.bar(\n",
    "    data_frame=country_hotels_grouped, \n",
    "    x='hotel_country',\n",
    "    y='hotels_number', \n",
    "    color='hotel_country', \n",
    "    text = 'hotels_number', \n",
    "    orientation='v', \n",
    "    height=500, \n",
    "    width=1000, \n",
    "    title='Распределение отелей по странам' \n",
    ")\n",
    "\n",
    "fig.show()"
   ]
  },
  {
   "cell_type": "markdown",
   "metadata": {},
   "source": [
    "## Вывод по графику: Больше всего отелей расположены во Франции и Великобритании."
   ]
  },
  {
   "cell_type": "code",
   "execution_count": 27,
   "metadata": {},
   "outputs": [
    {
     "name": "stderr",
     "output_type": "stream",
     "text": [
      "c:\\Users\\Дмитрий\\AppData\\Local\\Programs\\Python\\Python39\\lib\\site-packages\\category_encoders\\one_hot.py:145: FutureWarning:\n",
      "\n",
      "iteritems is deprecated and will be removed in a future version. Use .items instead.\n",
      "\n"
     ]
    }
   ],
   "source": [
    "#кодировка города отеля методом однократного кодирования OneHotEncoder\n",
    "encoder = ce.OneHotEncoder(cols=['hotel_city']) # указываем столбец для кодирования\n",
    "type_bin = encoder.fit_transform(data['hotel_city'])\n",
    "data = pd.concat([data, type_bin], axis=1)"
   ]
  },
  {
   "cell_type": "markdown",
   "metadata": {},
   "source": [
    "## 3.4. Признаки страна рецензента и соответствие страны рецензента стране отеля"
   ]
  },
  {
   "cell_type": "code",
   "execution_count": 28,
   "metadata": {},
   "outputs": [
    {
     "data": {
      "text/plain": [
       "227"
      ]
     },
     "execution_count": 28,
     "metadata": {},
     "output_type": "execute_result"
    }
   ],
   "source": [
    "#количество национальностей рецензентов \n",
    "len(data['reviewer_nationality'].unique())"
   ]
  },
  {
   "cell_type": "code",
   "execution_count": 29,
   "metadata": {},
   "outputs": [
    {
     "data": {
      "text/html": [
       "<div><div id=b5b9518b-62db-4016-9772-35719bde5ad1 style=\"display:none; background-color:#9D6CFF; color:white; width:200px; height:30px; padding-left:5px; border-radius:4px; flex-direction:row; justify-content:space-around; align-items:center;\" onmouseover=\"this.style.backgroundColor='#BA9BF8'\" onmouseout=\"this.style.backgroundColor='#9D6CFF'\" onclick=\"window.commands?.execute('create-mitosheet-from-dataframe-output');\">See Full Dataframe in Mito</div> <script> if (window.commands?.hasCommand('create-mitosheet-from-dataframe-output')) document.getElementById('b5b9518b-62db-4016-9772-35719bde5ad1').style.display = 'flex' </script> <table border=\"1\" class=\"dataframe\">\n",
       "  <thead>\n",
       "    <tr style=\"text-align: right;\">\n",
       "      <th></th>\n",
       "      <th>reviewer_nationality</th>\n",
       "      <th>reviewer_number</th>\n",
       "    </tr>\n",
       "  </thead>\n",
       "  <tbody>\n",
       "    <tr>\n",
       "      <th>214</th>\n",
       "      <td>United Kingdom</td>\n",
       "      <td>245246</td>\n",
       "    </tr>\n",
       "    <tr>\n",
       "      <th>216</th>\n",
       "      <td>United States of America</td>\n",
       "      <td>35437</td>\n",
       "    </tr>\n",
       "    <tr>\n",
       "      <th>14</th>\n",
       "      <td>Australia</td>\n",
       "      <td>21686</td>\n",
       "    </tr>\n",
       "    <tr>\n",
       "      <th>98</th>\n",
       "      <td>Ireland</td>\n",
       "      <td>14827</td>\n",
       "    </tr>\n",
       "    <tr>\n",
       "      <th>213</th>\n",
       "      <td>United Arab Emirates</td>\n",
       "      <td>10235</td>\n",
       "    </tr>\n",
       "    <tr>\n",
       "      <th>...</th>\n",
       "      <td>...</td>\n",
       "      <td>...</td>\n",
       "    </tr>\n",
       "    <tr>\n",
       "      <th>72</th>\n",
       "      <td>France</td>\n",
       "      <td>7296</td>\n",
       "    </tr>\n",
       "    <tr>\n",
       "      <th>100</th>\n",
       "      <td>Israel</td>\n",
       "      <td>6610</td>\n",
       "    </tr>\n",
       "    <tr>\n",
       "      <th>101</th>\n",
       "      <td>Italy</td>\n",
       "      <td>6114</td>\n",
       "    </tr>\n",
       "    <tr>\n",
       "      <th>22</th>\n",
       "      <td>Belgium</td>\n",
       "      <td>6031</td>\n",
       "    </tr>\n",
       "    <tr>\n",
       "      <th>206</th>\n",
       "      <td>Turkey</td>\n",
       "      <td>5444</td>\n",
       "    </tr>\n",
       "  </tbody>\n",
       "</table></div>"
      ],
      "text/plain": [
       "           reviewer_nationality  reviewer_number\n",
       "214             United Kingdom            245246\n",
       "216   United States of America             35437\n",
       "14                   Australia             21686\n",
       "98                     Ireland             14827\n",
       "213       United Arab Emirates             10235\n",
       "176               Saudi Arabia              8951\n",
       "144                Netherlands              8772\n",
       "197                Switzerland              8678\n",
       "78                     Germany              7941\n",
       "38                      Canada              7894\n",
       "72                      France              7296\n",
       "100                     Israel              6610\n",
       "101                      Italy              6114\n",
       "22                     Belgium              6031\n",
       "206                     Turkey              5444"
      ]
     },
     "execution_count": 29,
     "metadata": {},
     "output_type": "execute_result"
    }
   ],
   "source": [
    "#данные для построения графика\n",
    "bar_data = data.groupby('reviewer_nationality',as_index=False\n",
    ")[['sample']].count().nlargest(15, columns=['sample'])\n",
    "bar_data.rename(columns={'sample':'reviewer_number'},inplace=True)\n",
    "bar_data"
   ]
  },
  {
   "cell_type": "code",
   "execution_count": 30,
   "metadata": {},
   "outputs": [
    {
     "data": {
      "application/vnd.plotly.v1+json": {
       "config": {
        "plotlyServerURL": "https://plot.ly"
       },
       "data": [
        {
         "alignmentgroup": "True",
         "hovertemplate": "reviewer_nationality=%{x}<br>reviewer_number=%{text}<extra></extra>",
         "legendgroup": " United Kingdom ",
         "marker": {
          "color": "#636efa",
          "pattern": {
           "shape": ""
          }
         },
         "name": " United Kingdom ",
         "offsetgroup": " United Kingdom ",
         "orientation": "v",
         "showlegend": true,
         "text": [
          245246
         ],
         "textposition": "auto",
         "type": "bar",
         "x": [
          " United Kingdom "
         ],
         "xaxis": "x",
         "y": [
          245246
         ],
         "yaxis": "y"
        },
        {
         "alignmentgroup": "True",
         "hovertemplate": "reviewer_nationality=%{x}<br>reviewer_number=%{text}<extra></extra>",
         "legendgroup": " United States of America ",
         "marker": {
          "color": "#EF553B",
          "pattern": {
           "shape": ""
          }
         },
         "name": " United States of America ",
         "offsetgroup": " United States of America ",
         "orientation": "v",
         "showlegend": true,
         "text": [
          35437
         ],
         "textposition": "auto",
         "type": "bar",
         "x": [
          " United States of America "
         ],
         "xaxis": "x",
         "y": [
          35437
         ],
         "yaxis": "y"
        },
        {
         "alignmentgroup": "True",
         "hovertemplate": "reviewer_nationality=%{x}<br>reviewer_number=%{text}<extra></extra>",
         "legendgroup": " Australia ",
         "marker": {
          "color": "#00cc96",
          "pattern": {
           "shape": ""
          }
         },
         "name": " Australia ",
         "offsetgroup": " Australia ",
         "orientation": "v",
         "showlegend": true,
         "text": [
          21686
         ],
         "textposition": "auto",
         "type": "bar",
         "x": [
          " Australia "
         ],
         "xaxis": "x",
         "y": [
          21686
         ],
         "yaxis": "y"
        },
        {
         "alignmentgroup": "True",
         "hovertemplate": "reviewer_nationality=%{x}<br>reviewer_number=%{text}<extra></extra>",
         "legendgroup": " Ireland ",
         "marker": {
          "color": "#ab63fa",
          "pattern": {
           "shape": ""
          }
         },
         "name": " Ireland ",
         "offsetgroup": " Ireland ",
         "orientation": "v",
         "showlegend": true,
         "text": [
          14827
         ],
         "textposition": "auto",
         "type": "bar",
         "x": [
          " Ireland "
         ],
         "xaxis": "x",
         "y": [
          14827
         ],
         "yaxis": "y"
        },
        {
         "alignmentgroup": "True",
         "hovertemplate": "reviewer_nationality=%{x}<br>reviewer_number=%{text}<extra></extra>",
         "legendgroup": " United Arab Emirates ",
         "marker": {
          "color": "#FFA15A",
          "pattern": {
           "shape": ""
          }
         },
         "name": " United Arab Emirates ",
         "offsetgroup": " United Arab Emirates ",
         "orientation": "v",
         "showlegend": true,
         "text": [
          10235
         ],
         "textposition": "auto",
         "type": "bar",
         "x": [
          " United Arab Emirates "
         ],
         "xaxis": "x",
         "y": [
          10235
         ],
         "yaxis": "y"
        },
        {
         "alignmentgroup": "True",
         "hovertemplate": "reviewer_nationality=%{x}<br>reviewer_number=%{text}<extra></extra>",
         "legendgroup": " Saudi Arabia ",
         "marker": {
          "color": "#19d3f3",
          "pattern": {
           "shape": ""
          }
         },
         "name": " Saudi Arabia ",
         "offsetgroup": " Saudi Arabia ",
         "orientation": "v",
         "showlegend": true,
         "text": [
          8951
         ],
         "textposition": "auto",
         "type": "bar",
         "x": [
          " Saudi Arabia "
         ],
         "xaxis": "x",
         "y": [
          8951
         ],
         "yaxis": "y"
        },
        {
         "alignmentgroup": "True",
         "hovertemplate": "reviewer_nationality=%{x}<br>reviewer_number=%{text}<extra></extra>",
         "legendgroup": " Netherlands ",
         "marker": {
          "color": "#FF6692",
          "pattern": {
           "shape": ""
          }
         },
         "name": " Netherlands ",
         "offsetgroup": " Netherlands ",
         "orientation": "v",
         "showlegend": true,
         "text": [
          8772
         ],
         "textposition": "auto",
         "type": "bar",
         "x": [
          " Netherlands "
         ],
         "xaxis": "x",
         "y": [
          8772
         ],
         "yaxis": "y"
        },
        {
         "alignmentgroup": "True",
         "hovertemplate": "reviewer_nationality=%{x}<br>reviewer_number=%{text}<extra></extra>",
         "legendgroup": " Switzerland ",
         "marker": {
          "color": "#B6E880",
          "pattern": {
           "shape": ""
          }
         },
         "name": " Switzerland ",
         "offsetgroup": " Switzerland ",
         "orientation": "v",
         "showlegend": true,
         "text": [
          8678
         ],
         "textposition": "auto",
         "type": "bar",
         "x": [
          " Switzerland "
         ],
         "xaxis": "x",
         "y": [
          8678
         ],
         "yaxis": "y"
        },
        {
         "alignmentgroup": "True",
         "hovertemplate": "reviewer_nationality=%{x}<br>reviewer_number=%{text}<extra></extra>",
         "legendgroup": " Germany ",
         "marker": {
          "color": "#FF97FF",
          "pattern": {
           "shape": ""
          }
         },
         "name": " Germany ",
         "offsetgroup": " Germany ",
         "orientation": "v",
         "showlegend": true,
         "text": [
          7941
         ],
         "textposition": "auto",
         "type": "bar",
         "x": [
          " Germany "
         ],
         "xaxis": "x",
         "y": [
          7941
         ],
         "yaxis": "y"
        },
        {
         "alignmentgroup": "True",
         "hovertemplate": "reviewer_nationality=%{x}<br>reviewer_number=%{text}<extra></extra>",
         "legendgroup": " Canada ",
         "marker": {
          "color": "#FECB52",
          "pattern": {
           "shape": ""
          }
         },
         "name": " Canada ",
         "offsetgroup": " Canada ",
         "orientation": "v",
         "showlegend": true,
         "text": [
          7894
         ],
         "textposition": "auto",
         "type": "bar",
         "x": [
          " Canada "
         ],
         "xaxis": "x",
         "y": [
          7894
         ],
         "yaxis": "y"
        },
        {
         "alignmentgroup": "True",
         "hovertemplate": "reviewer_nationality=%{x}<br>reviewer_number=%{text}<extra></extra>",
         "legendgroup": " France ",
         "marker": {
          "color": "#636efa",
          "pattern": {
           "shape": ""
          }
         },
         "name": " France ",
         "offsetgroup": " France ",
         "orientation": "v",
         "showlegend": true,
         "text": [
          7296
         ],
         "textposition": "auto",
         "type": "bar",
         "x": [
          " France "
         ],
         "xaxis": "x",
         "y": [
          7296
         ],
         "yaxis": "y"
        },
        {
         "alignmentgroup": "True",
         "hovertemplate": "reviewer_nationality=%{x}<br>reviewer_number=%{text}<extra></extra>",
         "legendgroup": " Israel ",
         "marker": {
          "color": "#EF553B",
          "pattern": {
           "shape": ""
          }
         },
         "name": " Israel ",
         "offsetgroup": " Israel ",
         "orientation": "v",
         "showlegend": true,
         "text": [
          6610
         ],
         "textposition": "auto",
         "type": "bar",
         "x": [
          " Israel "
         ],
         "xaxis": "x",
         "y": [
          6610
         ],
         "yaxis": "y"
        },
        {
         "alignmentgroup": "True",
         "hovertemplate": "reviewer_nationality=%{x}<br>reviewer_number=%{text}<extra></extra>",
         "legendgroup": " Italy ",
         "marker": {
          "color": "#00cc96",
          "pattern": {
           "shape": ""
          }
         },
         "name": " Italy ",
         "offsetgroup": " Italy ",
         "orientation": "v",
         "showlegend": true,
         "text": [
          6114
         ],
         "textposition": "auto",
         "type": "bar",
         "x": [
          " Italy "
         ],
         "xaxis": "x",
         "y": [
          6114
         ],
         "yaxis": "y"
        },
        {
         "alignmentgroup": "True",
         "hovertemplate": "reviewer_nationality=%{x}<br>reviewer_number=%{text}<extra></extra>",
         "legendgroup": " Belgium ",
         "marker": {
          "color": "#ab63fa",
          "pattern": {
           "shape": ""
          }
         },
         "name": " Belgium ",
         "offsetgroup": " Belgium ",
         "orientation": "v",
         "showlegend": true,
         "text": [
          6031
         ],
         "textposition": "auto",
         "type": "bar",
         "x": [
          " Belgium "
         ],
         "xaxis": "x",
         "y": [
          6031
         ],
         "yaxis": "y"
        },
        {
         "alignmentgroup": "True",
         "hovertemplate": "reviewer_nationality=%{x}<br>reviewer_number=%{text}<extra></extra>",
         "legendgroup": " Turkey ",
         "marker": {
          "color": "#FFA15A",
          "pattern": {
           "shape": ""
          }
         },
         "name": " Turkey ",
         "offsetgroup": " Turkey ",
         "orientation": "v",
         "showlegend": true,
         "text": [
          5444
         ],
         "textposition": "auto",
         "type": "bar",
         "x": [
          " Turkey "
         ],
         "xaxis": "x",
         "y": [
          5444
         ],
         "yaxis": "y"
        }
       ],
       "layout": {
        "barmode": "relative",
        "height": 500,
        "legend": {
         "title": {
          "text": "reviewer_nationality"
         },
         "tracegroupgap": 0
        },
        "template": {
         "data": {
          "bar": [
           {
            "error_x": {
             "color": "#2a3f5f"
            },
            "error_y": {
             "color": "#2a3f5f"
            },
            "marker": {
             "line": {
              "color": "#E5ECF6",
              "width": 0.5
             },
             "pattern": {
              "fillmode": "overlay",
              "size": 10,
              "solidity": 0.2
             }
            },
            "type": "bar"
           }
          ],
          "barpolar": [
           {
            "marker": {
             "line": {
              "color": "#E5ECF6",
              "width": 0.5
             },
             "pattern": {
              "fillmode": "overlay",
              "size": 10,
              "solidity": 0.2
             }
            },
            "type": "barpolar"
           }
          ],
          "carpet": [
           {
            "aaxis": {
             "endlinecolor": "#2a3f5f",
             "gridcolor": "white",
             "linecolor": "white",
             "minorgridcolor": "white",
             "startlinecolor": "#2a3f5f"
            },
            "baxis": {
             "endlinecolor": "#2a3f5f",
             "gridcolor": "white",
             "linecolor": "white",
             "minorgridcolor": "white",
             "startlinecolor": "#2a3f5f"
            },
            "type": "carpet"
           }
          ],
          "choropleth": [
           {
            "colorbar": {
             "outlinewidth": 0,
             "ticks": ""
            },
            "type": "choropleth"
           }
          ],
          "contour": [
           {
            "colorbar": {
             "outlinewidth": 0,
             "ticks": ""
            },
            "colorscale": [
             [
              0,
              "#0d0887"
             ],
             [
              0.1111111111111111,
              "#46039f"
             ],
             [
              0.2222222222222222,
              "#7201a8"
             ],
             [
              0.3333333333333333,
              "#9c179e"
             ],
             [
              0.4444444444444444,
              "#bd3786"
             ],
             [
              0.5555555555555556,
              "#d8576b"
             ],
             [
              0.6666666666666666,
              "#ed7953"
             ],
             [
              0.7777777777777778,
              "#fb9f3a"
             ],
             [
              0.8888888888888888,
              "#fdca26"
             ],
             [
              1,
              "#f0f921"
             ]
            ],
            "type": "contour"
           }
          ],
          "contourcarpet": [
           {
            "colorbar": {
             "outlinewidth": 0,
             "ticks": ""
            },
            "type": "contourcarpet"
           }
          ],
          "heatmap": [
           {
            "colorbar": {
             "outlinewidth": 0,
             "ticks": ""
            },
            "colorscale": [
             [
              0,
              "#0d0887"
             ],
             [
              0.1111111111111111,
              "#46039f"
             ],
             [
              0.2222222222222222,
              "#7201a8"
             ],
             [
              0.3333333333333333,
              "#9c179e"
             ],
             [
              0.4444444444444444,
              "#bd3786"
             ],
             [
              0.5555555555555556,
              "#d8576b"
             ],
             [
              0.6666666666666666,
              "#ed7953"
             ],
             [
              0.7777777777777778,
              "#fb9f3a"
             ],
             [
              0.8888888888888888,
              "#fdca26"
             ],
             [
              1,
              "#f0f921"
             ]
            ],
            "type": "heatmap"
           }
          ],
          "heatmapgl": [
           {
            "colorbar": {
             "outlinewidth": 0,
             "ticks": ""
            },
            "colorscale": [
             [
              0,
              "#0d0887"
             ],
             [
              0.1111111111111111,
              "#46039f"
             ],
             [
              0.2222222222222222,
              "#7201a8"
             ],
             [
              0.3333333333333333,
              "#9c179e"
             ],
             [
              0.4444444444444444,
              "#bd3786"
             ],
             [
              0.5555555555555556,
              "#d8576b"
             ],
             [
              0.6666666666666666,
              "#ed7953"
             ],
             [
              0.7777777777777778,
              "#fb9f3a"
             ],
             [
              0.8888888888888888,
              "#fdca26"
             ],
             [
              1,
              "#f0f921"
             ]
            ],
            "type": "heatmapgl"
           }
          ],
          "histogram": [
           {
            "marker": {
             "pattern": {
              "fillmode": "overlay",
              "size": 10,
              "solidity": 0.2
             }
            },
            "type": "histogram"
           }
          ],
          "histogram2d": [
           {
            "colorbar": {
             "outlinewidth": 0,
             "ticks": ""
            },
            "colorscale": [
             [
              0,
              "#0d0887"
             ],
             [
              0.1111111111111111,
              "#46039f"
             ],
             [
              0.2222222222222222,
              "#7201a8"
             ],
             [
              0.3333333333333333,
              "#9c179e"
             ],
             [
              0.4444444444444444,
              "#bd3786"
             ],
             [
              0.5555555555555556,
              "#d8576b"
             ],
             [
              0.6666666666666666,
              "#ed7953"
             ],
             [
              0.7777777777777778,
              "#fb9f3a"
             ],
             [
              0.8888888888888888,
              "#fdca26"
             ],
             [
              1,
              "#f0f921"
             ]
            ],
            "type": "histogram2d"
           }
          ],
          "histogram2dcontour": [
           {
            "colorbar": {
             "outlinewidth": 0,
             "ticks": ""
            },
            "colorscale": [
             [
              0,
              "#0d0887"
             ],
             [
              0.1111111111111111,
              "#46039f"
             ],
             [
              0.2222222222222222,
              "#7201a8"
             ],
             [
              0.3333333333333333,
              "#9c179e"
             ],
             [
              0.4444444444444444,
              "#bd3786"
             ],
             [
              0.5555555555555556,
              "#d8576b"
             ],
             [
              0.6666666666666666,
              "#ed7953"
             ],
             [
              0.7777777777777778,
              "#fb9f3a"
             ],
             [
              0.8888888888888888,
              "#fdca26"
             ],
             [
              1,
              "#f0f921"
             ]
            ],
            "type": "histogram2dcontour"
           }
          ],
          "mesh3d": [
           {
            "colorbar": {
             "outlinewidth": 0,
             "ticks": ""
            },
            "type": "mesh3d"
           }
          ],
          "parcoords": [
           {
            "line": {
             "colorbar": {
              "outlinewidth": 0,
              "ticks": ""
             }
            },
            "type": "parcoords"
           }
          ],
          "pie": [
           {
            "automargin": true,
            "type": "pie"
           }
          ],
          "scatter": [
           {
            "fillpattern": {
             "fillmode": "overlay",
             "size": 10,
             "solidity": 0.2
            },
            "type": "scatter"
           }
          ],
          "scatter3d": [
           {
            "line": {
             "colorbar": {
              "outlinewidth": 0,
              "ticks": ""
             }
            },
            "marker": {
             "colorbar": {
              "outlinewidth": 0,
              "ticks": ""
             }
            },
            "type": "scatter3d"
           }
          ],
          "scattercarpet": [
           {
            "marker": {
             "colorbar": {
              "outlinewidth": 0,
              "ticks": ""
             }
            },
            "type": "scattercarpet"
           }
          ],
          "scattergeo": [
           {
            "marker": {
             "colorbar": {
              "outlinewidth": 0,
              "ticks": ""
             }
            },
            "type": "scattergeo"
           }
          ],
          "scattergl": [
           {
            "marker": {
             "colorbar": {
              "outlinewidth": 0,
              "ticks": ""
             }
            },
            "type": "scattergl"
           }
          ],
          "scattermapbox": [
           {
            "marker": {
             "colorbar": {
              "outlinewidth": 0,
              "ticks": ""
             }
            },
            "type": "scattermapbox"
           }
          ],
          "scatterpolar": [
           {
            "marker": {
             "colorbar": {
              "outlinewidth": 0,
              "ticks": ""
             }
            },
            "type": "scatterpolar"
           }
          ],
          "scatterpolargl": [
           {
            "marker": {
             "colorbar": {
              "outlinewidth": 0,
              "ticks": ""
             }
            },
            "type": "scatterpolargl"
           }
          ],
          "scatterternary": [
           {
            "marker": {
             "colorbar": {
              "outlinewidth": 0,
              "ticks": ""
             }
            },
            "type": "scatterternary"
           }
          ],
          "surface": [
           {
            "colorbar": {
             "outlinewidth": 0,
             "ticks": ""
            },
            "colorscale": [
             [
              0,
              "#0d0887"
             ],
             [
              0.1111111111111111,
              "#46039f"
             ],
             [
              0.2222222222222222,
              "#7201a8"
             ],
             [
              0.3333333333333333,
              "#9c179e"
             ],
             [
              0.4444444444444444,
              "#bd3786"
             ],
             [
              0.5555555555555556,
              "#d8576b"
             ],
             [
              0.6666666666666666,
              "#ed7953"
             ],
             [
              0.7777777777777778,
              "#fb9f3a"
             ],
             [
              0.8888888888888888,
              "#fdca26"
             ],
             [
              1,
              "#f0f921"
             ]
            ],
            "type": "surface"
           }
          ],
          "table": [
           {
            "cells": {
             "fill": {
              "color": "#EBF0F8"
             },
             "line": {
              "color": "white"
             }
            },
            "header": {
             "fill": {
              "color": "#C8D4E3"
             },
             "line": {
              "color": "white"
             }
            },
            "type": "table"
           }
          ]
         },
         "layout": {
          "annotationdefaults": {
           "arrowcolor": "#2a3f5f",
           "arrowhead": 0,
           "arrowwidth": 1
          },
          "autotypenumbers": "strict",
          "coloraxis": {
           "colorbar": {
            "outlinewidth": 0,
            "ticks": ""
           }
          },
          "colorscale": {
           "diverging": [
            [
             0,
             "#8e0152"
            ],
            [
             0.1,
             "#c51b7d"
            ],
            [
             0.2,
             "#de77ae"
            ],
            [
             0.3,
             "#f1b6da"
            ],
            [
             0.4,
             "#fde0ef"
            ],
            [
             0.5,
             "#f7f7f7"
            ],
            [
             0.6,
             "#e6f5d0"
            ],
            [
             0.7,
             "#b8e186"
            ],
            [
             0.8,
             "#7fbc41"
            ],
            [
             0.9,
             "#4d9221"
            ],
            [
             1,
             "#276419"
            ]
           ],
           "sequential": [
            [
             0,
             "#0d0887"
            ],
            [
             0.1111111111111111,
             "#46039f"
            ],
            [
             0.2222222222222222,
             "#7201a8"
            ],
            [
             0.3333333333333333,
             "#9c179e"
            ],
            [
             0.4444444444444444,
             "#bd3786"
            ],
            [
             0.5555555555555556,
             "#d8576b"
            ],
            [
             0.6666666666666666,
             "#ed7953"
            ],
            [
             0.7777777777777778,
             "#fb9f3a"
            ],
            [
             0.8888888888888888,
             "#fdca26"
            ],
            [
             1,
             "#f0f921"
            ]
           ],
           "sequentialminus": [
            [
             0,
             "#0d0887"
            ],
            [
             0.1111111111111111,
             "#46039f"
            ],
            [
             0.2222222222222222,
             "#7201a8"
            ],
            [
             0.3333333333333333,
             "#9c179e"
            ],
            [
             0.4444444444444444,
             "#bd3786"
            ],
            [
             0.5555555555555556,
             "#d8576b"
            ],
            [
             0.6666666666666666,
             "#ed7953"
            ],
            [
             0.7777777777777778,
             "#fb9f3a"
            ],
            [
             0.8888888888888888,
             "#fdca26"
            ],
            [
             1,
             "#f0f921"
            ]
           ]
          },
          "colorway": [
           "#636efa",
           "#EF553B",
           "#00cc96",
           "#ab63fa",
           "#FFA15A",
           "#19d3f3",
           "#FF6692",
           "#B6E880",
           "#FF97FF",
           "#FECB52"
          ],
          "font": {
           "color": "#2a3f5f"
          },
          "geo": {
           "bgcolor": "white",
           "lakecolor": "white",
           "landcolor": "#E5ECF6",
           "showlakes": true,
           "showland": true,
           "subunitcolor": "white"
          },
          "hoverlabel": {
           "align": "left"
          },
          "hovermode": "closest",
          "mapbox": {
           "style": "light"
          },
          "paper_bgcolor": "white",
          "plot_bgcolor": "#E5ECF6",
          "polar": {
           "angularaxis": {
            "gridcolor": "white",
            "linecolor": "white",
            "ticks": ""
           },
           "bgcolor": "#E5ECF6",
           "radialaxis": {
            "gridcolor": "white",
            "linecolor": "white",
            "ticks": ""
           }
          },
          "scene": {
           "xaxis": {
            "backgroundcolor": "#E5ECF6",
            "gridcolor": "white",
            "gridwidth": 2,
            "linecolor": "white",
            "showbackground": true,
            "ticks": "",
            "zerolinecolor": "white"
           },
           "yaxis": {
            "backgroundcolor": "#E5ECF6",
            "gridcolor": "white",
            "gridwidth": 2,
            "linecolor": "white",
            "showbackground": true,
            "ticks": "",
            "zerolinecolor": "white"
           },
           "zaxis": {
            "backgroundcolor": "#E5ECF6",
            "gridcolor": "white",
            "gridwidth": 2,
            "linecolor": "white",
            "showbackground": true,
            "ticks": "",
            "zerolinecolor": "white"
           }
          },
          "shapedefaults": {
           "line": {
            "color": "#2a3f5f"
           }
          },
          "ternary": {
           "aaxis": {
            "gridcolor": "white",
            "linecolor": "white",
            "ticks": ""
           },
           "baxis": {
            "gridcolor": "white",
            "linecolor": "white",
            "ticks": ""
           },
           "bgcolor": "#E5ECF6",
           "caxis": {
            "gridcolor": "white",
            "linecolor": "white",
            "ticks": ""
           }
          },
          "title": {
           "x": 0.05
          },
          "xaxis": {
           "automargin": true,
           "gridcolor": "white",
           "linecolor": "white",
           "ticks": "",
           "title": {
            "standoff": 15
           },
           "zerolinecolor": "white",
           "zerolinewidth": 2
          },
          "yaxis": {
           "automargin": true,
           "gridcolor": "white",
           "linecolor": "white",
           "ticks": "",
           "title": {
            "standoff": 15
           },
           "zerolinecolor": "white",
           "zerolinewidth": 2
          }
         }
        },
        "title": {
         "text": "Распределение национальности рецензентов"
        },
        "width": 1000,
        "xaxis": {
         "anchor": "y",
         "categoryarray": [
          " United Kingdom ",
          " United States of America ",
          " Australia ",
          " Ireland ",
          " United Arab Emirates ",
          " Saudi Arabia ",
          " Netherlands ",
          " Switzerland ",
          " Germany ",
          " Canada ",
          " France ",
          " Israel ",
          " Italy ",
          " Belgium ",
          " Turkey "
         ],
         "categoryorder": "array",
         "domain": [
          0,
          1
         ],
         "title": {
          "text": "reviewer_nationality"
         }
        },
        "yaxis": {
         "anchor": "x",
         "domain": [
          0,
          1
         ],
         "title": {
          "text": "reviewer_number"
         }
        }
       }
      }
     },
     "metadata": {},
     "output_type": "display_data"
    }
   ],
   "source": [
    "#строим график распределения рецензентов по странам\n",
    "fig = px.bar(\n",
    "    data_frame=bar_data, \n",
    "    x=\"reviewer_nationality\", \n",
    "    y=\"reviewer_number\", \n",
    "    color='reviewer_nationality', \n",
    "    text = 'reviewer_number', \n",
    "    orientation='v', \n",
    "    height=500, \n",
    "    width=1000, \n",
    "    title='Распределение национальности рецензентов' \n",
    ")\n",
    "\n",
    "#отображаем его\n",
    "fig.show()"
   ]
  },
  {
   "cell_type": "code",
   "execution_count": 31,
   "metadata": {},
   "outputs": [],
   "source": [
    "#обработка признака, чтобы убрать пробелы в начале и конце строки\n",
    "data['reviewer_nationality'] = data['reviewer_nationality'].apply(lambda x: x.strip())"
   ]
  },
  {
   "cell_type": "code",
   "execution_count": 32,
   "metadata": {},
   "outputs": [],
   "source": [
    "#добавляю признак соответствия национальности рецензента стране отеля\n",
    "data['country_nationality_accordance'] = (data['hotel_country'] == data['reviewer_nationality']).astype(int)"
   ]
  },
  {
   "cell_type": "code",
   "execution_count": 33,
   "metadata": {},
   "outputs": [],
   "source": [
    "#оставляем 10 наиболее часто встречающихся национальностей, остальные заменяем на Other\n",
    "top_ten = data['reviewer_nationality'].value_counts().nlargest(10).index\n",
    "data['reviewer_nationality'] = data['reviewer_nationality'].apply(lambda x: x if x in top_ten else 'Other')"
   ]
  },
  {
   "cell_type": "code",
   "execution_count": 34,
   "metadata": {},
   "outputs": [
    {
     "data": {
      "text/plain": [
       "array(['United Kingdom', 'Other', 'United States of America',\n",
       "       'Netherlands', 'Ireland', 'Canada', 'Australia', 'Saudi Arabia',\n",
       "       'Germany', 'United Arab Emirates', 'Switzerland'], dtype=object)"
      ]
     },
     "execution_count": 34,
     "metadata": {},
     "output_type": "execute_result"
    }
   ],
   "source": [
    "data['reviewer_nationality'].unique()"
   ]
  },
  {
   "cell_type": "code",
   "execution_count": 35,
   "metadata": {},
   "outputs": [],
   "source": [
    "#кодируем признак национальности рецензента методом двоичного кодирования\n",
    "bin_encoder = ce.BinaryEncoder(cols=['reviewer_nationality']) # столбец для кодирования\n",
    "type_bin = bin_encoder.fit_transform(data['reviewer_nationality'])\n",
    "data = pd.concat([data, type_bin], axis=1)"
   ]
  },
  {
   "cell_type": "code",
   "execution_count": 36,
   "metadata": {},
   "outputs": [
    {
     "name": "stdout",
     "output_type": "stream",
     "text": [
      "<class 'pandas.core.frame.DataFrame'>\n",
      "RangeIndex: 515738 entries, 0 to 515737\n",
      "Data columns (total 28 columns):\n",
      " #   Column                                      Non-Null Count   Dtype  \n",
      "---  ------                                      --------------   -----  \n",
      " 0   additional_number_of_scoring                515738 non-null  int64  \n",
      " 1   review_date                                 515738 non-null  object \n",
      " 2   average_score                               515738 non-null  float64\n",
      " 3   hotel_name                                  515738 non-null  object \n",
      " 4   reviewer_nationality                        515738 non-null  object \n",
      " 5   negative_review                             515738 non-null  object \n",
      " 6   review_total_negative_word_counts           515738 non-null  int64  \n",
      " 7   total_number_of_reviews                     515738 non-null  int64  \n",
      " 8   positive_review                             515738 non-null  object \n",
      " 9   review_total_positive_word_counts           515738 non-null  int64  \n",
      " 10  total_number_of_reviews_reviewer_has_given  515738 non-null  int64  \n",
      " 11  tags                                        515738 non-null  object \n",
      " 12  days_since_review                           515738 non-null  object \n",
      " 13  sample                                      515738 non-null  int64  \n",
      " 14  reviewer_score                              515738 non-null  float64\n",
      " 15  hotel_city                                  515738 non-null  object \n",
      " 16  hotel_country                               515738 non-null  object \n",
      " 17  hotel_city_1                                515738 non-null  int64  \n",
      " 18  hotel_city_2                                515738 non-null  int64  \n",
      " 19  hotel_city_3                                515738 non-null  int64  \n",
      " 20  hotel_city_4                                515738 non-null  int64  \n",
      " 21  hotel_city_5                                515738 non-null  int64  \n",
      " 22  hotel_city_6                                515738 non-null  int64  \n",
      " 23  country_nationality_accordance              515738 non-null  int32  \n",
      " 24  reviewer_nationality_0                      515738 non-null  int64  \n",
      " 25  reviewer_nationality_1                      515738 non-null  int64  \n",
      " 26  reviewer_nationality_2                      515738 non-null  int64  \n",
      " 27  reviewer_nationality_3                      515738 non-null  int64  \n",
      "dtypes: float64(2), int32(1), int64(16), object(9)\n",
      "memory usage: 108.2+ MB\n"
     ]
    }
   ],
   "source": [
    "data.info()"
   ]
  },
  {
   "cell_type": "code",
   "execution_count": 37,
   "metadata": {},
   "outputs": [],
   "source": [
    "# удаляем преобразованные признаки\n",
    "data.drop(['hotel_city','hotel_country','reviewer_nationality'],axis=1,inplace=True)"
   ]
  },
  {
   "cell_type": "code",
   "execution_count": 38,
   "metadata": {},
   "outputs": [
    {
     "name": "stdout",
     "output_type": "stream",
     "text": [
      "<class 'pandas.core.frame.DataFrame'>\n",
      "RangeIndex: 515738 entries, 0 to 515737\n",
      "Data columns (total 25 columns):\n",
      " #   Column                                      Non-Null Count   Dtype  \n",
      "---  ------                                      --------------   -----  \n",
      " 0   additional_number_of_scoring                515738 non-null  int64  \n",
      " 1   review_date                                 515738 non-null  object \n",
      " 2   average_score                               515738 non-null  float64\n",
      " 3   hotel_name                                  515738 non-null  object \n",
      " 4   negative_review                             515738 non-null  object \n",
      " 5   review_total_negative_word_counts           515738 non-null  int64  \n",
      " 6   total_number_of_reviews                     515738 non-null  int64  \n",
      " 7   positive_review                             515738 non-null  object \n",
      " 8   review_total_positive_word_counts           515738 non-null  int64  \n",
      " 9   total_number_of_reviews_reviewer_has_given  515738 non-null  int64  \n",
      " 10  tags                                        515738 non-null  object \n",
      " 11  days_since_review                           515738 non-null  object \n",
      " 12  sample                                      515738 non-null  int64  \n",
      " 13  reviewer_score                              515738 non-null  float64\n",
      " 14  hotel_city_1                                515738 non-null  int64  \n",
      " 15  hotel_city_2                                515738 non-null  int64  \n",
      " 16  hotel_city_3                                515738 non-null  int64  \n",
      " 17  hotel_city_4                                515738 non-null  int64  \n",
      " 18  hotel_city_5                                515738 non-null  int64  \n",
      " 19  hotel_city_6                                515738 non-null  int64  \n",
      " 20  country_nationality_accordance              515738 non-null  int32  \n",
      " 21  reviewer_nationality_0                      515738 non-null  int64  \n",
      " 22  reviewer_nationality_1                      515738 non-null  int64  \n",
      " 23  reviewer_nationality_2                      515738 non-null  int64  \n",
      " 24  reviewer_nationality_3                      515738 non-null  int64  \n",
      "dtypes: float64(2), int32(1), int64(16), object(6)\n",
      "memory usage: 96.4+ MB\n"
     ]
    }
   ],
   "source": [
    "data.info()"
   ]
  },
  {
   "cell_type": "markdown",
   "metadata": {},
   "source": [
    "## признак  tags"
   ]
  },
  {
   "cell_type": "code",
   "execution_count": 39,
   "metadata": {},
   "outputs": [
    {
     "data": {
      "text/plain": [
       "array([\"[' Leisure trip ', ' Couple ', ' Double Room ', ' Stayed 2 nights ']\",\n",
       "       \"[' Leisure trip ', ' Group ', ' Triple Room ', ' Stayed 1 night ']\",\n",
       "       \"[' Business trip ', ' Solo traveler ', ' Twin Room ', ' Stayed 1 night ', ' Submitted from a mobile device ']\",\n",
       "       ...,\n",
       "       \"[' Business trip ', ' Family with older children ', ' Single Room ', ' Stayed 3 nights ', ' Submitted from a mobile device ']\",\n",
       "       \"[' Leisure trip ', ' Solo traveler ', ' Luxury Room 1 Queensize Bed Twin bedded Room On Request ', ' Stayed 6 nights ', ' Submitted from a mobile device ']\",\n",
       "       \"[' Leisure trip ', ' Couple ', ' Bunk Bed Room ', ' Stayed 4 nights ']\"],\n",
       "      dtype=object)"
      ]
     },
     "execution_count": 39,
     "metadata": {},
     "output_type": "execute_result"
    }
   ],
   "source": [
    "data['tags'].unique()"
   ]
  },
  {
   "cell_type": "code",
   "execution_count": 40,
   "metadata": {},
   "outputs": [],
   "source": [
    "#избавляюсь от прямых скобок\n",
    "data['tags'] = data['tags'].apply(lambda x: x.strip('[]'))"
   ]
  },
  {
   "cell_type": "code",
   "execution_count": 41,
   "metadata": {},
   "outputs": [],
   "source": [
    "#избавляюсь от кавычек и пробелов\n",
    "data['tags'] = data['tags'].apply(lambda x: [w.strip(\" '\") for w in x.split(',')])"
   ]
  },
  {
   "cell_type": "code",
   "execution_count": 42,
   "metadata": {},
   "outputs": [
    {
     "data": {
      "text/plain": [
       "0         [Leisure trip, Couple, Double Room, Stayed 2 n...\n",
       "1         [Leisure trip, Group, Triple Room, Stayed 1 ni...\n",
       "2         [Business trip, Solo traveler, Twin Room, Stay...\n",
       "3         [Leisure trip, Couple, Ambassador Junior Suite...\n",
       "4         [Business trip, Solo traveler, Classic Double ...\n",
       "                                ...                        \n",
       "515733    [Leisure trip, Group, Club Double or Twin Room...\n",
       "515734    [Leisure trip, Couple, Standard Double Room, S...\n",
       "515735    [Business trip, Solo traveler, Single Room, St...\n",
       "515736    [Leisure trip, Solo traveler, Deluxe Double Ro...\n",
       "515737    [Leisure trip, Couple, Bunk Bed Room, Stayed 4...\n",
       "Name: tags, Length: 515738, dtype: object"
      ]
     },
     "metadata": {},
     "output_type": "display_data"
    }
   ],
   "source": [
    "display(data['tags'])"
   ]
  },
  {
   "cell_type": "code",
   "execution_count": 43,
   "metadata": {},
   "outputs": [
    {
     "data": {
      "text/plain": [
       "0         [Leisure trip, Couple, Double Room, Stayed 2 n...\n",
       "1         [Leisure trip, Group, Triple Room, Stayed 1 ni...\n",
       "2         [Business trip, Solo traveler, Twin Room, Stay...\n",
       "3         [Leisure trip, Couple, Ambassador Junior Suite...\n",
       "4         [Business trip, Solo traveler, Classic Double ...\n",
       "                                ...                        \n",
       "515733    [Leisure trip, Group, Club Double or Twin Room...\n",
       "515734    [Leisure trip, Couple, Standard Double Room, S...\n",
       "515735    [Business trip, Solo traveler, Single Room, St...\n",
       "515736    [Leisure trip, Solo traveler, Deluxe Double Ro...\n",
       "515737    [Leisure trip, Couple, Bunk Bed Room, Stayed 4...\n",
       "Name: tags, Length: 515738, dtype: object"
      ]
     },
     "execution_count": 43,
     "metadata": {},
     "output_type": "execute_result"
    }
   ],
   "source": [
    "#считаю количество одинаковых тегов\n",
    "tags_dict = {}\n",
    "def fill_tags_dict(x):\n",
    "    for elem in x:\n",
    "        if elem in tags_dict:\n",
    "            tags_dict[elem] = tags_dict[elem] + 1\n",
    "        else:\n",
    "            tags_dict[elem] = 1\n",
    "    return x\n",
    "data['tags'].apply(fill_tags_dict) "
   ]
  },
  {
   "cell_type": "code",
   "execution_count": 44,
   "metadata": {},
   "outputs": [
    {
     "data": {
      "text/plain": [
       "2428"
      ]
     },
     "execution_count": 44,
     "metadata": {},
     "output_type": "execute_result"
    }
   ],
   "source": [
    "len(tags_dict)"
   ]
  },
  {
   "cell_type": "code",
   "execution_count": 45,
   "metadata": {},
   "outputs": [],
   "source": [
    "#создаю DataFrame, отсортированный по частоте втречаемости тегов\n",
    "tags_count = pd.DataFrame(tags_dict,index=['count']).transpose()\n",
    "tags_sorted = tags_count.sort_values(by='count', ascending=False).head(30)"
   ]
  },
  {
   "cell_type": "code",
   "execution_count": 46,
   "metadata": {},
   "outputs": [
    {
     "data": {
      "text/html": [
       "<div><div id=b88451dc-0838-435b-8a4f-fea42d01aacb style=\"display:none; background-color:#9D6CFF; color:white; width:200px; height:30px; padding-left:5px; border-radius:4px; flex-direction:row; justify-content:space-around; align-items:center;\" onmouseover=\"this.style.backgroundColor='#BA9BF8'\" onmouseout=\"this.style.backgroundColor='#9D6CFF'\" onclick=\"window.commands?.execute('create-mitosheet-from-dataframe-output');\">See Full Dataframe in Mito</div> <script> if (window.commands?.hasCommand('create-mitosheet-from-dataframe-output')) document.getElementById('b88451dc-0838-435b-8a4f-fea42d01aacb').style.display = 'flex' </script> <table border=\"1\" class=\"dataframe\">\n",
       "  <thead>\n",
       "    <tr style=\"text-align: right;\">\n",
       "      <th></th>\n",
       "      <th>count</th>\n",
       "    </tr>\n",
       "  </thead>\n",
       "  <tbody>\n",
       "    <tr>\n",
       "      <th>Leisure trip</th>\n",
       "      <td>417778</td>\n",
       "    </tr>\n",
       "    <tr>\n",
       "      <th>Submitted from a mobile device</th>\n",
       "      <td>307640</td>\n",
       "    </tr>\n",
       "    <tr>\n",
       "      <th>Couple</th>\n",
       "      <td>252294</td>\n",
       "    </tr>\n",
       "    <tr>\n",
       "      <th>Stayed 1 night</th>\n",
       "      <td>193645</td>\n",
       "    </tr>\n",
       "    <tr>\n",
       "      <th>Stayed 2 nights</th>\n",
       "      <td>133937</td>\n",
       "    </tr>\n",
       "    <tr>\n",
       "      <th>...</th>\n",
       "      <td>...</td>\n",
       "    </tr>\n",
       "    <tr>\n",
       "      <th>Twin Room</th>\n",
       "      <td>8321</td>\n",
       "    </tr>\n",
       "    <tr>\n",
       "      <th>Stayed 7 nights</th>\n",
       "      <td>7399</td>\n",
       "    </tr>\n",
       "    <tr>\n",
       "      <th>Executive Double Room</th>\n",
       "      <td>6425</td>\n",
       "    </tr>\n",
       "    <tr>\n",
       "      <th>Classic Double or Twin Room</th>\n",
       "      <td>6107</td>\n",
       "    </tr>\n",
       "    <tr>\n",
       "      <th>Superior Twin Room</th>\n",
       "      <td>6064</td>\n",
       "    </tr>\n",
       "  </tbody>\n",
       "</table></div>"
      ],
      "text/plain": [
       "                                 count\n",
       "Leisure trip                    417778\n",
       "Submitted from a mobile device  307640\n",
       "Couple                          252294\n",
       "Stayed 1 night                  193645\n",
       "Stayed 2 nights                 133937\n",
       "Solo traveler                   108545\n",
       "Stayed 3 nights                  95821\n",
       "Business trip                    82939\n",
       "Group                            65392\n",
       "Family with young children       61015\n",
       "Stayed 4 nights                  47817\n",
       "Double Room                      35207\n",
       "Standard Double Room             32248\n",
       "Superior Double Room             31393\n",
       "Family with older children       26349\n",
       "Deluxe Double Room               24823\n",
       "Double or Twin Room              22393\n",
       "Stayed 5 nights                  20845\n",
       "Standard Double or Twin Room     17483\n",
       "Classic Double Room              16989\n",
       "Superior Double or Twin Room     13570\n",
       "2 rooms                          12393\n",
       "Stayed 6 nights                   9776\n",
       "Standard Twin Room                9745\n",
       "Single Room                       9670\n",
       "Twin Room                         8321\n",
       "Stayed 7 nights                   7399\n",
       "Executive Double Room             6425\n",
       "Classic Double or Twin Room       6107\n",
       "Superior Twin Room                6064"
      ]
     },
     "metadata": {},
     "output_type": "display_data"
    }
   ],
   "source": [
    "display(tags_sorted)"
   ]
  },
  {
   "cell_type": "code",
   "execution_count": 47,
   "metadata": {},
   "outputs": [],
   "source": [
    "#создаю список наиболее часто встречающихся тегов\n",
    "tags_30 = list(tags_sorted.index)"
   ]
  },
  {
   "cell_type": "code",
   "execution_count": 48,
   "metadata": {},
   "outputs": [
    {
     "data": {
      "text/plain": [
       "['Leisure trip',\n",
       " 'Submitted from a mobile device',\n",
       " 'Couple',\n",
       " 'Stayed 1 night',\n",
       " 'Stayed 2 nights',\n",
       " 'Solo traveler',\n",
       " 'Stayed 3 nights',\n",
       " 'Business trip',\n",
       " 'Group',\n",
       " 'Family with young children',\n",
       " 'Stayed 4 nights',\n",
       " 'Double Room',\n",
       " 'Standard Double Room',\n",
       " 'Superior Double Room',\n",
       " 'Family with older children',\n",
       " 'Deluxe Double Room',\n",
       " 'Double or Twin Room',\n",
       " 'Stayed 5 nights',\n",
       " 'Standard Double or Twin Room',\n",
       " 'Classic Double Room',\n",
       " 'Superior Double or Twin Room',\n",
       " '2 rooms',\n",
       " 'Stayed 6 nights',\n",
       " 'Standard Twin Room',\n",
       " 'Single Room',\n",
       " 'Twin Room',\n",
       " 'Stayed 7 nights',\n",
       " 'Executive Double Room',\n",
       " 'Classic Double or Twin Room',\n",
       " 'Superior Twin Room']"
      ]
     },
     "metadata": {},
     "output_type": "display_data"
    }
   ],
   "source": [
    "display(tags_30)"
   ]
  },
  {
   "cell_type": "markdown",
   "metadata": {},
   "source": [
    "## Признак даты отзыва"
   ]
  },
  {
   "cell_type": "code",
   "execution_count": 49,
   "metadata": {},
   "outputs": [],
   "source": [
    "#месяц, когда был написан отзыв\n",
    "data['review_date'] = pd.to_datetime(data['review_date'])\n",
    "data['review_month'] = data['review_date'].dt.month"
   ]
  },
  {
   "cell_type": "code",
   "execution_count": 50,
   "metadata": {},
   "outputs": [
    {
     "data": {
      "text/plain": [
       "Timestamp('2015-08-04 00:00:00')"
      ]
     },
     "execution_count": 50,
     "metadata": {},
     "output_type": "execute_result"
    }
   ],
   "source": [
    "#дата самого раннего отзыва\n",
    "data['review_date'].min()"
   ]
  },
  {
   "cell_type": "code",
   "execution_count": 51,
   "metadata": {},
   "outputs": [
    {
     "data": {
      "text/plain": [
       "Timestamp('2017-08-03 00:00:00')"
      ]
     },
     "execution_count": 51,
     "metadata": {},
     "output_type": "execute_result"
    }
   ],
   "source": [
    "#дата последнего отзыва\n",
    "data['review_date'].max()"
   ]
  },
  {
   "cell_type": "code",
   "execution_count": 52,
   "metadata": {},
   "outputs": [],
   "source": [
    "#кодируем признак в высокий или низкий сезон состоялось посещение отеля\n",
    "data['high_season'] = data['review_month'].apply(lambda x: 1 if x in [1,5,6,7,8,9] else 0)"
   ]
  },
  {
   "cell_type": "code",
   "execution_count": 53,
   "metadata": {},
   "outputs": [],
   "source": [
    "# удаляем признак даты отзыва\n",
    "data.drop(['review_date','review_month'],axis=1,inplace=True)"
   ]
  },
  {
   "cell_type": "code",
   "execution_count": 54,
   "metadata": {},
   "outputs": [
    {
     "name": "stdout",
     "output_type": "stream",
     "text": [
      "<class 'pandas.core.frame.DataFrame'>\n",
      "RangeIndex: 515738 entries, 0 to 515737\n",
      "Data columns (total 25 columns):\n",
      " #   Column                                      Non-Null Count   Dtype  \n",
      "---  ------                                      --------------   -----  \n",
      " 0   additional_number_of_scoring                515738 non-null  int64  \n",
      " 1   average_score                               515738 non-null  float64\n",
      " 2   hotel_name                                  515738 non-null  object \n",
      " 3   negative_review                             515738 non-null  object \n",
      " 4   review_total_negative_word_counts           515738 non-null  int64  \n",
      " 5   total_number_of_reviews                     515738 non-null  int64  \n",
      " 6   positive_review                             515738 non-null  object \n",
      " 7   review_total_positive_word_counts           515738 non-null  int64  \n",
      " 8   total_number_of_reviews_reviewer_has_given  515738 non-null  int64  \n",
      " 9   tags                                        515738 non-null  object \n",
      " 10  days_since_review                           515738 non-null  object \n",
      " 11  sample                                      515738 non-null  int64  \n",
      " 12  reviewer_score                              515738 non-null  float64\n",
      " 13  hotel_city_1                                515738 non-null  int64  \n",
      " 14  hotel_city_2                                515738 non-null  int64  \n",
      " 15  hotel_city_3                                515738 non-null  int64  \n",
      " 16  hotel_city_4                                515738 non-null  int64  \n",
      " 17  hotel_city_5                                515738 non-null  int64  \n",
      " 18  hotel_city_6                                515738 non-null  int64  \n",
      " 19  country_nationality_accordance              515738 non-null  int32  \n",
      " 20  reviewer_nationality_0                      515738 non-null  int64  \n",
      " 21  reviewer_nationality_1                      515738 non-null  int64  \n",
      " 22  reviewer_nationality_2                      515738 non-null  int64  \n",
      " 23  reviewer_nationality_3                      515738 non-null  int64  \n",
      " 24  high_season                                 515738 non-null  int64  \n",
      "dtypes: float64(2), int32(1), int64(17), object(5)\n",
      "memory usage: 96.4+ MB\n"
     ]
    }
   ],
   "source": [
    "data.info()"
   ]
  },
  {
   "cell_type": "markdown",
   "metadata": {},
   "source": [
    " ## Признак отзыв"
   ]
  },
  {
   "cell_type": "code",
   "execution_count": 55,
   "metadata": {},
   "outputs": [
    {
     "data": {
      "text/plain": [
       "No Negative    127890\n",
       " Nothing        14295\n",
       " Nothing         4236\n",
       " nothing         2225\n",
       " N A             1037\n",
       " None             984\n",
       "                  849\n",
       " N a              509\n",
       " Breakfast        407\n",
       " Small room       373\n",
       "Name: negative_review, dtype: int64"
      ]
     },
     "metadata": {},
     "output_type": "display_data"
    },
    {
     "name": "stdout",
     "output_type": "stream",
     "text": [
      "\n"
     ]
    },
    {
     "data": {
      "text/plain": [
       "No Positive        35946\n",
       " Location           9222\n",
       " Everything         2284\n",
       " location           1677\n",
       " Nothing            1243\n",
       " The location       1126\n",
       " Great location     1047\n",
       " Good location       927\n",
       " Location            915\n",
       " Everything          613\n",
       "Name: positive_review, dtype: int64"
      ]
     },
     "metadata": {},
     "output_type": "display_data"
    }
   ],
   "source": [
    "# посмотрим на самые популярные отзывы\n",
    "display(data['negative_review'].value_counts()[:10])\n",
    "print() # отступ\n",
    "display(data['positive_review'].value_counts()[:10])"
   ]
  },
  {
   "cell_type": "code",
   "execution_count": 56,
   "metadata": {},
   "outputs": [],
   "source": [
    "# уберём лишние пробелы и приведём все символы к нижнему регистру\n",
    "data['negative_review'] = data['negative_review'].apply(\n",
    "    lambda x: x.strip().lower()\n",
    ")\n",
    "data['positive_review'] = data['positive_review'].apply(\n",
    "    lambda x: x.strip().lower()\n",
    ")\n",
    "\n",
    "# отсутствие отзывов дающее эмоциональную окраску заполняем пустыми строками\n",
    "not_negative = [\n",
    "    'no negative', 'no complaints', 'nothing all good', 'having to leave',\n",
    "    'nothing it was perfect', 'nothing everything was perfect',\n",
    "    'there was nothing i didn t like', 'no'\n",
    "]\n",
    "not_positive = ['no positive']\n",
    "\n",
    "data['negative_review'] = data['negative_review'].apply(\n",
    "    lambda x: '' if x in not_negative else x\n",
    ")\n",
    "data['positive_review'] = data['positive_review'].apply(\n",
    "    lambda x: '' if x in not_positive else x\n",
    ")\n",
    "\n",
    "# популярные значения, имеющие эмоциональную окраску в зависимости от того, в какой\n",
    "# колонке они находятся, дополним суффиксом в соответствии с названием колонки\n",
    "real = [\n",
    "    'location', 'the location', 'everything', 'small room', 'breakfast',\n",
    "    'price', 'small rooms', 'staff', 'location and staff', 'location staff',\n",
    "    'location location location', 'comfy bed', 'expensive', 'room size',\n",
    "    'expensive breakfast', 'the price', 'the staff', 'all', 'every thing',\n",
    "    'cleanliness', 'location breakfast', 'location only', 'wifi', 'pillows',\n",
    "    'parking', 'size of room', 'the breakfast', 'breakfast too expensive',\n",
    "    'central location', 'staff and location', 'the bed', 'convenient location',\n",
    "    'position', 'location and breakfast'\n",
    "]\n",
    "\n",
    "data['positive_review'] = data['positive_review'].apply(\n",
    "    lambda x: x + ' positive' if x in real else x\n",
    ")\n",
    "data['negative_review'] = data['negative_review'].apply(\n",
    "    lambda x: x + ' negative' if x in real else x\n",
    ")"
   ]
  },
  {
   "cell_type": "code",
   "execution_count": null,
   "metadata": {},
   "outputs": [],
   "source": [
    "# создаём класс SentimentIntensityAnalyzer\n",
    "sent_analyzer = SentimentIntensityAnalyzer()\n",
    "\n",
    "# создаём колонки с числовым выражением отзывов\n",
    "data['negative_neg'] = data['negative_review'].apply(\n",
    "    lambda x: sent_analyzer.polarity_scores(x)['neg']\n",
    ")\n",
    "data['negative_neu'] = data['negative_review'].apply(\n",
    "    lambda x: sent_analyzer.polarity_scores(x)['neu']\n",
    ")\n",
    "data['negative_pos'] = data['negative_review'].apply(\n",
    "    lambda x: sent_analyzer.polarity_scores(x)['pos']\n",
    ")\n",
    "data['negative_compound'] = data['negative_review'].apply(\n",
    "    lambda x: sent_analyzer.polarity_scores(x)['compound']\n",
    ")\n",
    "data['positive_neg'] = data['positive_review'].apply(\n",
    "    lambda x: sent_analyzer.polarity_scores(x)['neg']\n",
    ")\n",
    "data['positive_neu'] = data['positive_review'].apply(\n",
    "    lambda x: sent_analyzer.polarity_scores(x)['neu']\n",
    ")\n",
    "data['positive_pos'] = data['positive_review'].apply(\n",
    "    lambda x: sent_analyzer.polarity_scores(x)['pos']\n",
    ")\n",
    "data['positive_compound'] = data['positive_review'].apply(\n",
    "    lambda x: sent_analyzer.polarity_scores(x)['compound']\n",
    ")"
   ]
  },
  {
   "cell_type": "code",
   "execution_count": null,
   "metadata": {},
   "outputs": [
    {
     "name": "stdout",
     "output_type": "stream",
     "text": [
      "<class 'pandas.core.frame.DataFrame'>\n",
      "RangeIndex: 515738 entries, 0 to 515737\n",
      "Data columns (total 33 columns):\n",
      " #   Column                                      Non-Null Count   Dtype  \n",
      "---  ------                                      --------------   -----  \n",
      " 0   additional_number_of_scoring                515738 non-null  int64  \n",
      " 1   average_score                               515738 non-null  float64\n",
      " 2   hotel_name                                  515738 non-null  object \n",
      " 3   negative_review                             515738 non-null  object \n",
      " 4   review_total_negative_word_counts           515738 non-null  int64  \n",
      " 5   total_number_of_reviews                     515738 non-null  int64  \n",
      " 6   positive_review                             515738 non-null  object \n",
      " 7   review_total_positive_word_counts           515738 non-null  int64  \n",
      " 8   total_number_of_reviews_reviewer_has_given  515738 non-null  int64  \n",
      " 9   tags                                        515738 non-null  object \n",
      " 10  days_since_review                           515738 non-null  object \n",
      " 11  sample                                      515738 non-null  int64  \n",
      " 12  reviewer_score                              515738 non-null  float64\n",
      " 13  hotel_city_1                                515738 non-null  int64  \n",
      " 14  hotel_city_2                                515738 non-null  int64  \n",
      " 15  hotel_city_3                                515738 non-null  int64  \n",
      " 16  hotel_city_4                                515738 non-null  int64  \n",
      " 17  hotel_city_5                                515738 non-null  int64  \n",
      " 18  hotel_city_6                                515738 non-null  int64  \n",
      " 19  country_nationality_accordance              515738 non-null  int32  \n",
      " 20  reviewer_nationality_0                      515738 non-null  int64  \n",
      " 21  reviewer_nationality_1                      515738 non-null  int64  \n",
      " 22  reviewer_nationality_2                      515738 non-null  int64  \n",
      " 23  reviewer_nationality_3                      515738 non-null  int64  \n",
      " 24  high_season                                 515738 non-null  int64  \n",
      " 25  negative_neg                                515738 non-null  float64\n",
      " 26  negative_neu                                515738 non-null  float64\n",
      " 27  negative_pos                                515738 non-null  float64\n",
      " 28  negative_compound                           515738 non-null  float64\n",
      " 29  positive_neg                                515738 non-null  float64\n",
      " 30  positive_neu                                515738 non-null  float64\n",
      " 31  positive_pos                                515738 non-null  float64\n",
      " 32  positive_compound                           515738 non-null  float64\n",
      "dtypes: float64(10), int32(1), int64(17), object(5)\n",
      "memory usage: 127.9+ MB\n"
     ]
    }
   ],
   "source": [
    "data.info()"
   ]
  },
  {
   "cell_type": "code",
   "execution_count": null,
   "metadata": {},
   "outputs": [
    {
     "name": "stderr",
     "output_type": "stream",
     "text": [
      "C:\\Users\\Дмитрий\\AppData\\Local\\Temp\\ipykernel_248\\1624597386.py:2: FutureWarning:\n",
      "\n",
      "The default value of numeric_only in DataFrame.corr is deprecated. In a future version, it will default to False. Select only valid columns or specify the value of numeric_only to silence this warning.\n",
      "\n"
     ]
    },
    {
     "data": {
      "text/plain": [
       "<AxesSubplot: >"
      ]
     },
     "execution_count": 59,
     "metadata": {},
     "output_type": "execute_result"
    },
    {
     "data": {
      "image/png": "[encoded data removed]",
      "text/plain": [
       "<Figure size 1080x720 with 2 Axes>"
      ]
     },
     "metadata": {
      "needs_background": "light"
     },
     "output_type": "display_data"
    }
   ],
   "source": [
    "plt.rcParams['figure.figsize'] = (15,10)\n",
    "sns.heatmap(data.drop(['sample'], axis=1).corr(), annot=True)"
   ]
  },
  {
   "cell_type": "code",
   "execution_count": null,
   "metadata": {},
   "outputs": [],
   "source": [
    "# убираем признаки которые еще не успели обработать, \n",
    "# модель на признаках с dtypes \"object\" обучаться не будет, просто выберим их и удалим\n",
    "object_columns = [s for s in data.columns if data[s].dtypes == 'object']\n",
    "data.drop(object_columns, axis = 1, inplace=True)"
   ]
  },
  {
   "cell_type": "code",
   "execution_count": null,
   "metadata": {},
   "outputs": [
    {
     "name": "stdout",
     "output_type": "stream",
     "text": [
      "<class 'pandas.core.frame.DataFrame'>\n",
      "RangeIndex: 515738 entries, 0 to 515737\n",
      "Data columns (total 28 columns):\n",
      " #   Column                                      Non-Null Count   Dtype  \n",
      "---  ------                                      --------------   -----  \n",
      " 0   additional_number_of_scoring                515738 non-null  int64  \n",
      " 1   average_score                               515738 non-null  float64\n",
      " 2   review_total_negative_word_counts           515738 non-null  int64  \n",
      " 3   total_number_of_reviews                     515738 non-null  int64  \n",
      " 4   review_total_positive_word_counts           515738 non-null  int64  \n",
      " 5   total_number_of_reviews_reviewer_has_given  515738 non-null  int64  \n",
      " 6   sample                                      515738 non-null  int64  \n",
      " 7   reviewer_score                              515738 non-null  float64\n",
      " 8   hotel_city_1                                515738 non-null  int64  \n",
      " 9   hotel_city_2                                515738 non-null  int64  \n",
      " 10  hotel_city_3                                515738 non-null  int64  \n",
      " 11  hotel_city_4                                515738 non-null  int64  \n",
      " 12  hotel_city_5                                515738 non-null  int64  \n",
      " 13  hotel_city_6                                515738 non-null  int64  \n",
      " 14  country_nationality_accordance              515738 non-null  int32  \n",
      " 15  reviewer_nationality_0                      515738 non-null  int64  \n",
      " 16  reviewer_nationality_1                      515738 non-null  int64  \n",
      " 17  reviewer_nationality_2                      515738 non-null  int64  \n",
      " 18  reviewer_nationality_3                      515738 non-null  int64  \n",
      " 19  high_season                                 515738 non-null  int64  \n",
      " 20  negative_neg                                515738 non-null  float64\n",
      " 21  negative_neu                                515738 non-null  float64\n",
      " 22  negative_pos                                515738 non-null  float64\n",
      " 23  negative_compound                           515738 non-null  float64\n",
      " 24  positive_neg                                515738 non-null  float64\n",
      " 25  positive_neu                                515738 non-null  float64\n",
      " 26  positive_pos                                515738 non-null  float64\n",
      " 27  positive_compound                           515738 non-null  float64\n",
      "dtypes: float64(10), int32(1), int64(17)\n",
      "memory usage: 108.2 MB\n"
     ]
    }
   ],
   "source": [
    "data.info()"
   ]
  },
  {
   "attachments": {},
   "cell_type": "markdown",
   "metadata": {},
   "source": [
    " # ОБУЧЕНИЕ МОДЕЛИ"
   ]
  },
  {
   "cell_type": "code",
   "execution_count": null,
   "metadata": {},
   "outputs": [],
   "source": [
    "# Теперь выделим тестовую часть\n",
    "train_data = data.query('sample == 1').drop(['sample'], axis=1)\n",
    "test_data = data.query('sample == 0').drop(['sample'], axis=1)\n",
    "\n",
    "y = train_data.reviewer_score.values            # наш таргет\n",
    "X = train_data.drop(['reviewer_score'], axis=1)"
   ]
  },
  {
   "cell_type": "code",
   "execution_count": null,
   "metadata": {},
   "outputs": [],
   "source": [
    "# Воспользуемся специальной функцие train_test_split для разбивки тестовых данных\n",
    "# выделим 20% данных на валидацию (параметр test_size)\n",
    "X_train, X_test, y_train, y_test = train_test_split(X, y, test_size=0.2, random_state=RANDOM_SEED)"
   ]
  },
  {
   "cell_type": "code",
   "execution_count": null,
   "metadata": {},
   "outputs": [
    {
     "data": {
      "text/plain": [
       "((128935, 27), (386803, 27), (386803, 26), (309442, 26), (77361, 26))"
      ]
     },
     "execution_count": 64,
     "metadata": {},
     "output_type": "execute_result"
    }
   ],
   "source": [
    "# проверяем\n",
    "test_data.shape, train_data.shape, X.shape, X_train.shape, X_test.shape"
   ]
  },
  {
   "cell_type": "code",
   "execution_count": null,
   "metadata": {},
   "outputs": [],
   "source": [
    "# Импортируем необходимые библиотеки:\n",
    "from sklearn.ensemble import RandomForestRegressor # инструмент для создания и обучения модели\n",
    "from sklearn import metrics # инструменты для оценки точности модели"
   ]
  },
  {
   "cell_type": "code",
   "execution_count": null,
   "metadata": {},
   "outputs": [],
   "source": [
    "# Создаём модель (НАСТРОЙКИ НЕ ТРОГАЕМ)\n",
    "model = RandomForestRegressor(n_estimators=100, verbose=1, n_jobs=-1, random_state=RANDOM_SEED)"
   ]
  },
  {
   "cell_type": "code",
   "execution_count": null,
   "metadata": {},
   "outputs": [
    {
     "name": "stderr",
     "output_type": "stream",
     "text": [
      "[Parallel(n_jobs=-1)]: Using backend ThreadingBackend with 8 concurrent workers.\n",
      "[Parallel(n_jobs=-1)]: Done  34 tasks      | elapsed:   22.5s\n",
      "[Parallel(n_jobs=-1)]: Done 100 out of 100 | elapsed:   59.2s finished\n",
      "[Parallel(n_jobs=8)]: Using backend ThreadingBackend with 8 concurrent workers.\n",
      "[Parallel(n_jobs=8)]: Done  34 tasks      | elapsed:    0.3s\n",
      "[Parallel(n_jobs=8)]: Done 100 out of 100 | elapsed:    0.9s finished\n"
     ]
    }
   ],
   "source": [
    "# Обучаем модель на тестовом наборе данных\n",
    "model.fit(X_train, y_train)\n",
    "\n",
    "# Используем обученную модель для предсказания рейтинга ресторанов в тестовой выборке.\n",
    "# Предсказанные значения записываем в переменную y_pred\n",
    "y_pred = model.predict(X_test)"
   ]
  },
  {
   "cell_type": "code",
   "execution_count": null,
   "metadata": {},
   "outputs": [
    {
     "name": "stdout",
     "output_type": "stream",
     "text": [
      "MAPE: 0.8778267503590153\n"
     ]
    }
   ],
   "source": [
    "# Сравниваем предсказанные значения (y_pred) с реальными (y_test), и смотрим насколько они в среднем отличаются\n",
    "# Метрика называется Mean Absolute Error (MAE) и показывает среднее отклонение предсказанных значений от фактических.\n",
    "print('MAPE:', metrics.mean_absolute_error(y_test, y_pred))"
   ]
  },
  {
   "attachments": {},
   "cell_type": "markdown",
   "metadata": {},
   "source": [
    "0.8778267503590155"
   ]
  },
  {
   "cell_type": "code",
   "execution_count": null,
   "metadata": {},
   "outputs": [
    {
     "data": {
      "text/plain": [
       "<AxesSubplot: >"
      ]
     },
     "execution_count": 69,
     "metadata": {},
     "output_type": "execute_result"
    },
    {
     "data": {
      "image/png": "[encoded data removed]",
      "text/plain": [
       "<Figure size 720x720 with 1 Axes>"
      ]
     },
     "metadata": {
      "needs_background": "light"
     },
     "output_type": "display_data"
    }
   ],
   "source": [
    "# в RandomForestRegressor есть возможность вывести самые важные признаки для модели\n",
    "plt.rcParams['figure.figsize'] = (10,10)\n",
    "feat_importances = pd.Series(model.feature_importances_, index=X.columns)\n",
    "feat_importances.nlargest(15).plot(kind='barh')"
   ]
  },
  {
   "cell_type": "code",
   "execution_count": null,
   "metadata": {},
   "outputs": [
    {
     "data": {
      "text/html": [
       "<div>\n",
       "<style scoped>\n",
       "    .dataframe tbody tr th:only-of-type {\n",
       "        vertical-align: middle;\n",
       "    }\n",
       "\n",
       "    .dataframe tbody tr th {\n",
       "        vertical-align: top;\n",
       "    }\n",
       "\n",
       "    .dataframe thead th {\n",
       "        text-align: right;\n",
       "    }\n",
       "</style>\n",
       "<table border=\"1\" class=\"dataframe\">\n",
       "  <thead>\n",
       "    <tr style=\"text-align: right;\">\n",
       "      <th></th>\n",
       "      <th>additional_number_of_scoring</th>\n",
       "      <th>average_score</th>\n",
       "      <th>review_total_negative_word_counts</th>\n",
       "      <th>total_number_of_reviews</th>\n",
       "      <th>review_total_positive_word_counts</th>\n",
       "      <th>total_number_of_reviews_reviewer_has_given</th>\n",
       "      <th>reviewer_score</th>\n",
       "      <th>hotel_city_1</th>\n",
       "      <th>hotel_city_2</th>\n",
       "      <th>hotel_city_3</th>\n",
       "      <th>...</th>\n",
       "      <th>reviewer_nationality_3</th>\n",
       "      <th>high_season</th>\n",
       "      <th>negative_neg</th>\n",
       "      <th>negative_neu</th>\n",
       "      <th>negative_pos</th>\n",
       "      <th>negative_compound</th>\n",
       "      <th>positive_neg</th>\n",
       "      <th>positive_neu</th>\n",
       "      <th>positive_pos</th>\n",
       "      <th>positive_compound</th>\n",
       "    </tr>\n",
       "  </thead>\n",
       "  <tbody>\n",
       "    <tr>\n",
       "      <th>56969</th>\n",
       "      <td>843</td>\n",
       "      <td>7.8</td>\n",
       "      <td>6</td>\n",
       "      <td>3801</td>\n",
       "      <td>0</td>\n",
       "      <td>1</td>\n",
       "      <td>0.0</td>\n",
       "      <td>0</td>\n",
       "      <td>0</td>\n",
       "      <td>0</td>\n",
       "      <td>...</td>\n",
       "      <td>1</td>\n",
       "      <td>0</td>\n",
       "      <td>0.000</td>\n",
       "      <td>1.000</td>\n",
       "      <td>0.000</td>\n",
       "      <td>0.0000</td>\n",
       "      <td>0.000</td>\n",
       "      <td>0.000</td>\n",
       "      <td>0.000</td>\n",
       "      <td>0.0000</td>\n",
       "    </tr>\n",
       "    <tr>\n",
       "      <th>20177</th>\n",
       "      <td>791</td>\n",
       "      <td>7.3</td>\n",
       "      <td>0</td>\n",
       "      <td>3609</td>\n",
       "      <td>12</td>\n",
       "      <td>11</td>\n",
       "      <td>0.0</td>\n",
       "      <td>0</td>\n",
       "      <td>0</td>\n",
       "      <td>0</td>\n",
       "      <td>...</td>\n",
       "      <td>1</td>\n",
       "      <td>0</td>\n",
       "      <td>0.000</td>\n",
       "      <td>0.000</td>\n",
       "      <td>0.000</td>\n",
       "      <td>0.0000</td>\n",
       "      <td>0.000</td>\n",
       "      <td>0.419</td>\n",
       "      <td>0.581</td>\n",
       "      <td>0.9022</td>\n",
       "    </tr>\n",
       "    <tr>\n",
       "      <th>108639</th>\n",
       "      <td>298</td>\n",
       "      <td>8.5</td>\n",
       "      <td>9</td>\n",
       "      <td>3550</td>\n",
       "      <td>20</td>\n",
       "      <td>29</td>\n",
       "      <td>0.0</td>\n",
       "      <td>1</td>\n",
       "      <td>0</td>\n",
       "      <td>0</td>\n",
       "      <td>...</td>\n",
       "      <td>1</td>\n",
       "      <td>1</td>\n",
       "      <td>0.333</td>\n",
       "      <td>0.667</td>\n",
       "      <td>0.000</td>\n",
       "      <td>-0.4588</td>\n",
       "      <td>0.000</td>\n",
       "      <td>0.630</td>\n",
       "      <td>0.370</td>\n",
       "      <td>0.8316</td>\n",
       "    </tr>\n",
       "    <tr>\n",
       "      <th>30390</th>\n",
       "      <td>843</td>\n",
       "      <td>7.8</td>\n",
       "      <td>15</td>\n",
       "      <td>3801</td>\n",
       "      <td>47</td>\n",
       "      <td>4</td>\n",
       "      <td>0.0</td>\n",
       "      <td>0</td>\n",
       "      <td>0</td>\n",
       "      <td>0</td>\n",
       "      <td>...</td>\n",
       "      <td>0</td>\n",
       "      <td>1</td>\n",
       "      <td>0.000</td>\n",
       "      <td>0.805</td>\n",
       "      <td>0.195</td>\n",
       "      <td>0.4404</td>\n",
       "      <td>0.000</td>\n",
       "      <td>0.708</td>\n",
       "      <td>0.292</td>\n",
       "      <td>0.9399</td>\n",
       "    </tr>\n",
       "    <tr>\n",
       "      <th>66439</th>\n",
       "      <td>248</td>\n",
       "      <td>9.2</td>\n",
       "      <td>0</td>\n",
       "      <td>945</td>\n",
       "      <td>40</td>\n",
       "      <td>1</td>\n",
       "      <td>0.0</td>\n",
       "      <td>0</td>\n",
       "      <td>0</td>\n",
       "      <td>0</td>\n",
       "      <td>...</td>\n",
       "      <td>1</td>\n",
       "      <td>1</td>\n",
       "      <td>0.000</td>\n",
       "      <td>0.000</td>\n",
       "      <td>0.000</td>\n",
       "      <td>0.0000</td>\n",
       "      <td>0.059</td>\n",
       "      <td>0.722</td>\n",
       "      <td>0.218</td>\n",
       "      <td>0.8063</td>\n",
       "    </tr>\n",
       "    <tr>\n",
       "      <th>37896</th>\n",
       "      <td>75</td>\n",
       "      <td>8.2</td>\n",
       "      <td>2</td>\n",
       "      <td>948</td>\n",
       "      <td>31</td>\n",
       "      <td>17</td>\n",
       "      <td>0.0</td>\n",
       "      <td>1</td>\n",
       "      <td>0</td>\n",
       "      <td>0</td>\n",
       "      <td>...</td>\n",
       "      <td>1</td>\n",
       "      <td>0</td>\n",
       "      <td>0.000</td>\n",
       "      <td>1.000</td>\n",
       "      <td>0.000</td>\n",
       "      <td>0.0000</td>\n",
       "      <td>0.000</td>\n",
       "      <td>0.504</td>\n",
       "      <td>0.496</td>\n",
       "      <td>0.9621</td>\n",
       "    </tr>\n",
       "    <tr>\n",
       "      <th>78782</th>\n",
       "      <td>54</td>\n",
       "      <td>8.7</td>\n",
       "      <td>35</td>\n",
       "      <td>1099</td>\n",
       "      <td>23</td>\n",
       "      <td>1</td>\n",
       "      <td>0.0</td>\n",
       "      <td>0</td>\n",
       "      <td>0</td>\n",
       "      <td>0</td>\n",
       "      <td>...</td>\n",
       "      <td>1</td>\n",
       "      <td>1</td>\n",
       "      <td>0.000</td>\n",
       "      <td>0.912</td>\n",
       "      <td>0.088</td>\n",
       "      <td>0.4380</td>\n",
       "      <td>0.000</td>\n",
       "      <td>0.719</td>\n",
       "      <td>0.281</td>\n",
       "      <td>0.8141</td>\n",
       "    </tr>\n",
       "    <tr>\n",
       "      <th>110407</th>\n",
       "      <td>106</td>\n",
       "      <td>9.0</td>\n",
       "      <td>7</td>\n",
       "      <td>855</td>\n",
       "      <td>7</td>\n",
       "      <td>13</td>\n",
       "      <td>0.0</td>\n",
       "      <td>0</td>\n",
       "      <td>0</td>\n",
       "      <td>0</td>\n",
       "      <td>...</td>\n",
       "      <td>1</td>\n",
       "      <td>0</td>\n",
       "      <td>0.362</td>\n",
       "      <td>0.638</td>\n",
       "      <td>0.000</td>\n",
       "      <td>-0.1779</td>\n",
       "      <td>0.000</td>\n",
       "      <td>0.311</td>\n",
       "      <td>0.689</td>\n",
       "      <td>0.7688</td>\n",
       "    </tr>\n",
       "    <tr>\n",
       "      <th>33601</th>\n",
       "      <td>904</td>\n",
       "      <td>8.1</td>\n",
       "      <td>6</td>\n",
       "      <td>16670</td>\n",
       "      <td>4</td>\n",
       "      <td>5</td>\n",
       "      <td>0.0</td>\n",
       "      <td>1</td>\n",
       "      <td>0</td>\n",
       "      <td>0</td>\n",
       "      <td>...</td>\n",
       "      <td>0</td>\n",
       "      <td>1</td>\n",
       "      <td>0.000</td>\n",
       "      <td>1.000</td>\n",
       "      <td>0.000</td>\n",
       "      <td>0.0000</td>\n",
       "      <td>0.000</td>\n",
       "      <td>1.000</td>\n",
       "      <td>0.000</td>\n",
       "      <td>0.0000</td>\n",
       "    </tr>\n",
       "    <tr>\n",
       "      <th>30112</th>\n",
       "      <td>298</td>\n",
       "      <td>8.5</td>\n",
       "      <td>22</td>\n",
       "      <td>3550</td>\n",
       "      <td>31</td>\n",
       "      <td>45</td>\n",
       "      <td>0.0</td>\n",
       "      <td>1</td>\n",
       "      <td>0</td>\n",
       "      <td>0</td>\n",
       "      <td>...</td>\n",
       "      <td>0</td>\n",
       "      <td>0</td>\n",
       "      <td>0.086</td>\n",
       "      <td>0.811</td>\n",
       "      <td>0.104</td>\n",
       "      <td>0.1027</td>\n",
       "      <td>0.000</td>\n",
       "      <td>0.925</td>\n",
       "      <td>0.075</td>\n",
       "      <td>0.2732</td>\n",
       "    </tr>\n",
       "  </tbody>\n",
       "</table>\n",
       "<p>10 rows × 27 columns</p>\n",
       "</div>"
      ],
      "text/plain": [
       "        additional_number_of_scoring  average_score  \\\n",
       "56969                            843            7.8   \n",
       "20177                            791            7.3   \n",
       "108639                           298            8.5   \n",
       "30390                            843            7.8   \n",
       "66439                            248            9.2   \n",
       "37896                             75            8.2   \n",
       "78782                             54            8.7   \n",
       "110407                           106            9.0   \n",
       "33601                            904            8.1   \n",
       "30112                            298            8.5   \n",
       "\n",
       "        review_total_negative_word_counts  total_number_of_reviews  \\\n",
       "56969                                   6                     3801   \n",
       "20177                                   0                     3609   \n",
       "108639                                  9                     3550   \n",
       "30390                                  15                     3801   \n",
       "66439                                   0                      945   \n",
       "37896                                   2                      948   \n",
       "78782                                  35                     1099   \n",
       "110407                                  7                      855   \n",
       "33601                                   6                    16670   \n",
       "30112                                  22                     3550   \n",
       "\n",
       "        review_total_positive_word_counts  \\\n",
       "56969                                   0   \n",
       "20177                                  12   \n",
       "108639                                 20   \n",
       "30390                                  47   \n",
       "66439                                  40   \n",
       "37896                                  31   \n",
       "78782                                  23   \n",
       "110407                                  7   \n",
       "33601                                   4   \n",
       "30112                                  31   \n",
       "\n",
       "        total_number_of_reviews_reviewer_has_given  reviewer_score  \\\n",
       "56969                                            1             0.0   \n",
       "20177                                           11             0.0   \n",
       "108639                                          29             0.0   \n",
       "30390                                            4             0.0   \n",
       "66439                                            1             0.0   \n",
       "37896                                           17             0.0   \n",
       "78782                                            1             0.0   \n",
       "110407                                          13             0.0   \n",
       "33601                                            5             0.0   \n",
       "30112                                           45             0.0   \n",
       "\n",
       "        hotel_city_1  hotel_city_2  hotel_city_3  ...  reviewer_nationality_3  \\\n",
       "56969              0             0             0  ...                       1   \n",
       "20177              0             0             0  ...                       1   \n",
       "108639             1             0             0  ...                       1   \n",
       "30390              0             0             0  ...                       0   \n",
       "66439              0             0             0  ...                       1   \n",
       "37896              1             0             0  ...                       1   \n",
       "78782              0             0             0  ...                       1   \n",
       "110407             0             0             0  ...                       1   \n",
       "33601              1             0             0  ...                       0   \n",
       "30112              1             0             0  ...                       0   \n",
       "\n",
       "        high_season  negative_neg  negative_neu  negative_pos  \\\n",
       "56969             0         0.000         1.000         0.000   \n",
       "20177             0         0.000         0.000         0.000   \n",
       "108639            1         0.333         0.667         0.000   \n",
       "30390             1         0.000         0.805         0.195   \n",
       "66439             1         0.000         0.000         0.000   \n",
       "37896             0         0.000         1.000         0.000   \n",
       "78782             1         0.000         0.912         0.088   \n",
       "110407            0         0.362         0.638         0.000   \n",
       "33601             1         0.000         1.000         0.000   \n",
       "30112             0         0.086         0.811         0.104   \n",
       "\n",
       "        negative_compound  positive_neg  positive_neu  positive_pos  \\\n",
       "56969              0.0000         0.000         0.000         0.000   \n",
       "20177              0.0000         0.000         0.419         0.581   \n",
       "108639            -0.4588         0.000         0.630         0.370   \n",
       "30390              0.4404         0.000         0.708         0.292   \n",
       "66439              0.0000         0.059         0.722         0.218   \n",
       "37896              0.0000         0.000         0.504         0.496   \n",
       "78782              0.4380         0.000         0.719         0.281   \n",
       "110407            -0.1779         0.000         0.311         0.689   \n",
       "33601              0.0000         0.000         1.000         0.000   \n",
       "30112              0.1027         0.000         0.925         0.075   \n",
       "\n",
       "        positive_compound  \n",
       "56969              0.0000  \n",
       "20177              0.9022  \n",
       "108639             0.8316  \n",
       "30390              0.9399  \n",
       "66439              0.8063  \n",
       "37896              0.9621  \n",
       "78782              0.8141  \n",
       "110407             0.7688  \n",
       "33601              0.0000  \n",
       "30112              0.2732  \n",
       "\n",
       "[10 rows x 27 columns]"
      ]
     },
     "execution_count": 70,
     "metadata": {},
     "output_type": "execute_result"
    }
   ],
   "source": [
    "test_data.sample(10)"
   ]
  },
  {
   "cell_type": "code",
   "execution_count": null,
   "metadata": {},
   "outputs": [],
   "source": [
    "test_data = test_data.drop(['reviewer_score'], axis=1)"
   ]
  },
  {
   "cell_type": "code",
   "execution_count": null,
   "metadata": {},
   "outputs": [
    {
     "data": {
      "text/html": [
       "<div>\n",
       "<style scoped>\n",
       "    .dataframe tbody tr th:only-of-type {\n",
       "        vertical-align: middle;\n",
       "    }\n",
       "\n",
       "    .dataframe tbody tr th {\n",
       "        vertical-align: top;\n",
       "    }\n",
       "\n",
       "    .dataframe thead th {\n",
       "        text-align: right;\n",
       "    }\n",
       "</style>\n",
       "<table border=\"1\" class=\"dataframe\">\n",
       "  <thead>\n",
       "    <tr style=\"text-align: right;\">\n",
       "      <th></th>\n",
       "      <th>reviewer_score</th>\n",
       "      <th>id</th>\n",
       "    </tr>\n",
       "  </thead>\n",
       "  <tbody>\n",
       "    <tr>\n",
       "      <th>0</th>\n",
       "      <td>8.642</td>\n",
       "      <td>488440</td>\n",
       "    </tr>\n",
       "    <tr>\n",
       "      <th>1</th>\n",
       "      <td>7.646</td>\n",
       "      <td>274649</td>\n",
       "    </tr>\n",
       "    <tr>\n",
       "      <th>2</th>\n",
       "      <td>8.403</td>\n",
       "      <td>374688</td>\n",
       "    </tr>\n",
       "    <tr>\n",
       "      <th>3</th>\n",
       "      <td>9.729</td>\n",
       "      <td>404352</td>\n",
       "    </tr>\n",
       "    <tr>\n",
       "      <th>4</th>\n",
       "      <td>9.475</td>\n",
       "      <td>451596</td>\n",
       "    </tr>\n",
       "    <tr>\n",
       "      <th>...</th>\n",
       "      <td>...</td>\n",
       "      <td>...</td>\n",
       "    </tr>\n",
       "    <tr>\n",
       "      <th>128930</th>\n",
       "      <td>8.802</td>\n",
       "      <td>495812</td>\n",
       "    </tr>\n",
       "    <tr>\n",
       "      <th>128931</th>\n",
       "      <td>9.440</td>\n",
       "      <td>315577</td>\n",
       "    </tr>\n",
       "    <tr>\n",
       "      <th>128932</th>\n",
       "      <td>8.380</td>\n",
       "      <td>511968</td>\n",
       "    </tr>\n",
       "    <tr>\n",
       "      <th>128933</th>\n",
       "      <td>9.609</td>\n",
       "      <td>303386</td>\n",
       "    </tr>\n",
       "    <tr>\n",
       "      <th>128934</th>\n",
       "      <td>7.530</td>\n",
       "      <td>103157</td>\n",
       "    </tr>\n",
       "  </tbody>\n",
       "</table>\n",
       "<p>128935 rows × 2 columns</p>\n",
       "</div>"
      ],
      "text/plain": [
       "        reviewer_score      id\n",
       "0                8.642  488440\n",
       "1                7.646  274649\n",
       "2                8.403  374688\n",
       "3                9.729  404352\n",
       "4                9.475  451596\n",
       "...                ...     ...\n",
       "128930           8.802  495812\n",
       "128931           9.440  315577\n",
       "128932           8.380  511968\n",
       "128933           9.609  303386\n",
       "128934           7.530  103157\n",
       "\n",
       "[128935 rows x 2 columns]"
      ]
     },
     "execution_count": 72,
     "metadata": {},
     "output_type": "execute_result"
    }
   ],
   "source": [
    "sample_submission"
   ]
  },
  {
   "cell_type": "code",
   "execution_count": null,
   "metadata": {},
   "outputs": [
    {
     "name": "stderr",
     "output_type": "stream",
     "text": [
      "[Parallel(n_jobs=8)]: Using backend ThreadingBackend with 8 concurrent workers.\n",
      "[Parallel(n_jobs=8)]: Done  34 tasks      | elapsed:    0.6s\n",
      "[Parallel(n_jobs=8)]: Done 100 out of 100 | elapsed:    1.6s finished\n"
     ]
    }
   ],
   "source": [
    "predict_submission = model.predict(test_data)"
   ]
  },
  {
   "cell_type": "code",
   "execution_count": null,
   "metadata": {},
   "outputs": [
    {
     "data": {
      "text/plain": [
       "array([8.642, 7.646, 8.403, ..., 8.38 , 9.609, 7.53 ])"
      ]
     },
     "execution_count": 74,
     "metadata": {},
     "output_type": "execute_result"
    }
   ],
   "source": [
    "predict_submission"
   ]
  },
  {
   "cell_type": "code",
   "execution_count": null,
   "metadata": {},
   "outputs": [
    {
     "data": {
      "text/plain": [
       "['reviewer_score', 'id']"
      ]
     },
     "execution_count": 75,
     "metadata": {},
     "output_type": "execute_result"
    }
   ],
   "source": [
    "list(sample_submission)"
   ]
  },
  {
   "cell_type": "code",
   "execution_count": null,
   "metadata": {},
   "outputs": [
    {
     "data": {
      "text/html": [
       "<div>\n",
       "<style scoped>\n",
       "    .dataframe tbody tr th:only-of-type {\n",
       "        vertical-align: middle;\n",
       "    }\n",
       "\n",
       "    .dataframe tbody tr th {\n",
       "        vertical-align: top;\n",
       "    }\n",
       "\n",
       "    .dataframe thead th {\n",
       "        text-align: right;\n",
       "    }\n",
       "</style>\n",
       "<table border=\"1\" class=\"dataframe\">\n",
       "  <thead>\n",
       "    <tr style=\"text-align: right;\">\n",
       "      <th></th>\n",
       "      <th>reviewer_score</th>\n",
       "      <th>id</th>\n",
       "    </tr>\n",
       "  </thead>\n",
       "  <tbody>\n",
       "    <tr>\n",
       "      <th>0</th>\n",
       "      <td>8.642</td>\n",
       "      <td>488440</td>\n",
       "    </tr>\n",
       "    <tr>\n",
       "      <th>1</th>\n",
       "      <td>7.646</td>\n",
       "      <td>274649</td>\n",
       "    </tr>\n",
       "    <tr>\n",
       "      <th>2</th>\n",
       "      <td>8.403</td>\n",
       "      <td>374688</td>\n",
       "    </tr>\n",
       "    <tr>\n",
       "      <th>3</th>\n",
       "      <td>9.729</td>\n",
       "      <td>404352</td>\n",
       "    </tr>\n",
       "    <tr>\n",
       "      <th>4</th>\n",
       "      <td>9.475</td>\n",
       "      <td>451596</td>\n",
       "    </tr>\n",
       "    <tr>\n",
       "      <th>5</th>\n",
       "      <td>9.108</td>\n",
       "      <td>302161</td>\n",
       "    </tr>\n",
       "    <tr>\n",
       "      <th>6</th>\n",
       "      <td>7.490</td>\n",
       "      <td>317079</td>\n",
       "    </tr>\n",
       "    <tr>\n",
       "      <th>7</th>\n",
       "      <td>7.496</td>\n",
       "      <td>13963</td>\n",
       "    </tr>\n",
       "    <tr>\n",
       "      <th>8</th>\n",
       "      <td>8.112</td>\n",
       "      <td>159785</td>\n",
       "    </tr>\n",
       "    <tr>\n",
       "      <th>9</th>\n",
       "      <td>7.454</td>\n",
       "      <td>195089</td>\n",
       "    </tr>\n",
       "  </tbody>\n",
       "</table>\n",
       "</div>"
      ],
      "text/plain": [
       "   reviewer_score      id\n",
       "0           8.642  488440\n",
       "1           7.646  274649\n",
       "2           8.403  374688\n",
       "3           9.729  404352\n",
       "4           9.475  451596\n",
       "5           9.108  302161\n",
       "6           7.490  317079\n",
       "7           7.496   13963\n",
       "8           8.112  159785\n",
       "9           7.454  195089"
      ]
     },
     "execution_count": 76,
     "metadata": {},
     "output_type": "execute_result"
    }
   ],
   "source": [
    "sample_submission['reviewer_score'] = predict_submission\n",
    "sample_submission.to_csv('submission.csv', index=False)\n",
    "sample_submission.head(10)"
   ]
  }
 ],
 "metadata": {
  "kernelspec": {
   "display_name": "Python 3.9.10 64-bit (system)",
   "language": "python",
   "name": "python3"
  },
  "language_info": {
   "codemirror_mode": {
    "name": "ipython",
    "version": 3
   },
   "file_extension": ".py",
   "mimetype": "text/x-python",
   "name": "python",
   "nbconvert_exporter": "python",
   "pygments_lexer": "ipython3",
   "version": "3.9.10"
  },
  "orig_nbformat": 4,
  "vscode": {
   "interpreter": {
    "hash": "f6d7686a5da26883c99a55231209c9154191d4c53d43288002f026027fd18f07"
   }
  }
 },
 "nbformat": 4,
 "nbformat_minor": 2
}
